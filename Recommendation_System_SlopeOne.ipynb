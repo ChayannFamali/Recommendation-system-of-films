{
 "cells": [
  {
   "cell_type": "code",
   "execution_count": 1,
   "metadata": {},
   "outputs": [],
   "source": [
    "import os\n",
    "import numpy as np\n",
    "import pandas as pd\n",
    "from surprise import Reader, Dataset\n",
    "from surprise import SlopeOne\n",
    "os.chdir('C:/Users/dimav/Desktop/pet_proj/Recommendation system of films/Data/')"
   ]
  },
  {
   "cell_type": "code",
   "execution_count": 2,
   "metadata": {},
   "outputs": [],
   "source": [
    "df = pd.read_csv('ratings.csv', delimiter=',')\n",
    "df = df.drop(['timestamp'], axis=1)"
   ]
  },
  {
   "cell_type": "code",
   "execution_count": 3,
   "metadata": {},
   "outputs": [
    {
     "data": {
      "text/html": [
       "<div>\n",
       "<style scoped>\n",
       "    .dataframe tbody tr th:only-of-type {\n",
       "        vertical-align: middle;\n",
       "    }\n",
       "\n",
       "    .dataframe tbody tr th {\n",
       "        vertical-align: top;\n",
       "    }\n",
       "\n",
       "    .dataframe thead th {\n",
       "        text-align: right;\n",
       "    }\n",
       "</style>\n",
       "<table border=\"1\" class=\"dataframe\">\n",
       "  <thead>\n",
       "    <tr style=\"text-align: right;\">\n",
       "      <th></th>\n",
       "      <th>userId</th>\n",
       "      <th>movieId</th>\n",
       "      <th>rating</th>\n",
       "    </tr>\n",
       "  </thead>\n",
       "  <tbody>\n",
       "    <tr>\n",
       "      <th>count</th>\n",
       "      <td>100836.000000</td>\n",
       "      <td>100836.000000</td>\n",
       "      <td>100836.000000</td>\n",
       "    </tr>\n",
       "    <tr>\n",
       "      <th>mean</th>\n",
       "      <td>326.127564</td>\n",
       "      <td>19435.295718</td>\n",
       "      <td>3.501557</td>\n",
       "    </tr>\n",
       "    <tr>\n",
       "      <th>std</th>\n",
       "      <td>182.618491</td>\n",
       "      <td>35530.987199</td>\n",
       "      <td>1.042529</td>\n",
       "    </tr>\n",
       "    <tr>\n",
       "      <th>min</th>\n",
       "      <td>1.000000</td>\n",
       "      <td>1.000000</td>\n",
       "      <td>0.500000</td>\n",
       "    </tr>\n",
       "    <tr>\n",
       "      <th>25%</th>\n",
       "      <td>177.000000</td>\n",
       "      <td>1199.000000</td>\n",
       "      <td>3.000000</td>\n",
       "    </tr>\n",
       "    <tr>\n",
       "      <th>50%</th>\n",
       "      <td>325.000000</td>\n",
       "      <td>2991.000000</td>\n",
       "      <td>3.500000</td>\n",
       "    </tr>\n",
       "    <tr>\n",
       "      <th>75%</th>\n",
       "      <td>477.000000</td>\n",
       "      <td>8122.000000</td>\n",
       "      <td>4.000000</td>\n",
       "    </tr>\n",
       "    <tr>\n",
       "      <th>max</th>\n",
       "      <td>610.000000</td>\n",
       "      <td>193609.000000</td>\n",
       "      <td>5.000000</td>\n",
       "    </tr>\n",
       "  </tbody>\n",
       "</table>\n",
       "</div>"
      ],
      "text/plain": [
       "              userId        movieId         rating\n",
       "count  100836.000000  100836.000000  100836.000000\n",
       "mean      326.127564   19435.295718       3.501557\n",
       "std       182.618491   35530.987199       1.042529\n",
       "min         1.000000       1.000000       0.500000\n",
       "25%       177.000000    1199.000000       3.000000\n",
       "50%       325.000000    2991.000000       3.500000\n",
       "75%       477.000000    8122.000000       4.000000\n",
       "max       610.000000  193609.000000       5.000000"
      ]
     },
     "execution_count": 3,
     "metadata": {},
     "output_type": "execute_result"
    }
   ],
   "source": [
    "df.describe()"
   ]
  },
  {
   "cell_type": "code",
   "execution_count": 4,
   "metadata": {},
   "outputs": [
    {
     "name": "stdout",
     "output_type": "stream",
     "text": [
      "<class 'pandas.core.frame.DataFrame'>\n",
      "RangeIndex: 100836 entries, 0 to 100835\n",
      "Data columns (total 3 columns):\n",
      " #   Column   Non-Null Count   Dtype  \n",
      "---  ------   --------------   -----  \n",
      " 0   userId   100836 non-null  int64  \n",
      " 1   movieId  100836 non-null  int64  \n",
      " 2   rating   100836 non-null  float64\n",
      "dtypes: float64(1), int64(2)\n",
      "memory usage: 2.3 MB\n"
     ]
    }
   ],
   "source": [
    "df.info()"
   ]
  },
  {
   "cell_type": "code",
   "execution_count": 5,
   "metadata": {},
   "outputs": [
    {
     "name": "stderr",
     "output_type": "stream",
     "text": [
      "C:\\Users\\dimav\\.conda\\envs\\my-rdkit-env\\lib\\site-packages\\seaborn\\_decorators.py:36: FutureWarning: Pass the following variable as a keyword arg: x. From version 0.12, the only valid positional argument will be `data`, and passing other arguments without an explicit keyword will result in an error or misinterpretation.\n",
      "  warnings.warn(\n"
     ]
    },
    {
     "data": {
      "text/plain": [
       "<AxesSubplot:xlabel='rating', ylabel='count'>"
      ]
     },
     "execution_count": 5,
     "metadata": {},
     "output_type": "execute_result"
    },
    {
     "data": {
      "image/png": "[encoded data removed]",
      "text/plain": [
       "<Figure size 1080x504 with 1 Axes>"
      ]
     },
     "metadata": {
      "needs_background": "light"
     },
     "output_type": "display_data"
    }
   ],
   "source": [
    "import plotly.express as px\n",
    "import seaborn as sns\n",
    "import matplotlib.pyplot as plt\n",
    "plt.figure(figsize=(15,7))\n",
    "sns.set(style=\"darkgrid\")\n",
    "sns.countplot(df['rating'])"
   ]
  },
  {
   "cell_type": "code",
   "execution_count": 6,
   "metadata": {},
   "outputs": [
    {
     "data": {
      "application/vnd.plotly.v1+json": {
       "config": {
        "plotlyServerURL": "https://plot.ly"
       },
       "data": [
        {
         "hovertemplate": "variable=userId<br>rating=%{x}<br>value=%{y}<extra></extra>",
         "legendgroup": "userId",
         "line": {
          "color": "#636efa",
          "dash": "solid"
         },
         "marker": {
          "symbol": "circle"
         },
         "mode": "lines",
         "name": "userId",
         "orientation": "v",
         "showlegend": true,
         "type": "scatter",
         "x": [
          0.5,
          1,
          1.5,
          2,
          2.5,
          3,
          3.5,
          4,
          4.5,
          5
         ],
         "xaxis": "x",
         "y": [
          1370,
          2811,
          1791,
          7551,
          5550,
          20047,
          13136,
          26818,
          8551,
          13211
         ],
         "yaxis": "y"
        }
       ],
       "layout": {
        "legend": {
         "title": {
          "text": "variable"
         },
         "tracegroupgap": 0
        },
        "margin": {
         "t": 60
        },
        "template": {
         "data": {
          "bar": [
           {
            "error_x": {
             "color": "#2a3f5f"
            },
            "error_y": {
             "color": "#2a3f5f"
            },
            "marker": {
             "line": {
              "color": "#E5ECF6",
              "width": 0.5
             },
             "pattern": {
              "fillmode": "overlay",
              "size": 10,
              "solidity": 0.2
             }
            },
            "type": "bar"
           }
          ],
          "barpolar": [
           {
            "marker": {
             "line": {
              "color": "#E5ECF6",
              "width": 0.5
             },
             "pattern": {
              "fillmode": "overlay",
              "size": 10,
              "solidity": 0.2
             }
            },
            "type": "barpolar"
           }
          ],
          "carpet": [
           {
            "aaxis": {
             "endlinecolor": "#2a3f5f",
             "gridcolor": "white",
             "linecolor": "white",
             "minorgridcolor": "white",
             "startlinecolor": "#2a3f5f"
            },
            "baxis": {
             "endlinecolor": "#2a3f5f",
             "gridcolor": "white",
             "linecolor": "white",
             "minorgridcolor": "white",
             "startlinecolor": "#2a3f5f"
            },
            "type": "carpet"
           }
          ],
          "choropleth": [
           {
            "colorbar": {
             "outlinewidth": 0,
             "ticks": ""
            },
            "type": "choropleth"
           }
          ],
          "contour": [
           {
            "colorbar": {
             "outlinewidth": 0,
             "ticks": ""
            },
            "colorscale": [
             [
              0,
              "#0d0887"
             ],
             [
              0.1111111111111111,
              "#46039f"
             ],
             [
              0.2222222222222222,
              "#7201a8"
             ],
             [
              0.3333333333333333,
              "#9c179e"
             ],
             [
              0.4444444444444444,
              "#bd3786"
             ],
             [
              0.5555555555555556,
              "#d8576b"
             ],
             [
              0.6666666666666666,
              "#ed7953"
             ],
             [
              0.7777777777777778,
              "#fb9f3a"
             ],
             [
              0.8888888888888888,
              "#fdca26"
             ],
             [
              1,
              "#f0f921"
             ]
            ],
            "type": "contour"
           }
          ],
          "contourcarpet": [
           {
            "colorbar": {
             "outlinewidth": 0,
             "ticks": ""
            },
            "type": "contourcarpet"
           }
          ],
          "heatmap": [
           {
            "colorbar": {
             "outlinewidth": 0,
             "ticks": ""
            },
            "colorscale": [
             [
              0,
              "#0d0887"
             ],
             [
              0.1111111111111111,
              "#46039f"
             ],
             [
              0.2222222222222222,
              "#7201a8"
             ],
             [
              0.3333333333333333,
              "#9c179e"
             ],
             [
              0.4444444444444444,
              "#bd3786"
             ],
             [
              0.5555555555555556,
              "#d8576b"
             ],
             [
              0.6666666666666666,
              "#ed7953"
             ],
             [
              0.7777777777777778,
              "#fb9f3a"
             ],
             [
              0.8888888888888888,
              "#fdca26"
             ],
             [
              1,
              "#f0f921"
             ]
            ],
            "type": "heatmap"
           }
          ],
          "heatmapgl": [
           {
            "colorbar": {
             "outlinewidth": 0,
             "ticks": ""
            },
            "colorscale": [
             [
              0,
              "#0d0887"
             ],
             [
              0.1111111111111111,
              "#46039f"
             ],
             [
              0.2222222222222222,
              "#7201a8"
             ],
             [
              0.3333333333333333,
              "#9c179e"
             ],
             [
              0.4444444444444444,
              "#bd3786"
             ],
             [
              0.5555555555555556,
              "#d8576b"
             ],
             [
              0.6666666666666666,
              "#ed7953"
             ],
             [
              0.7777777777777778,
              "#fb9f3a"
             ],
             [
              0.8888888888888888,
              "#fdca26"
             ],
             [
              1,
              "#f0f921"
             ]
            ],
            "type": "heatmapgl"
           }
          ],
          "histogram": [
           {
            "marker": {
             "pattern": {
              "fillmode": "overlay",
              "size": 10,
              "solidity": 0.2
             }
            },
            "type": "histogram"
           }
          ],
          "histogram2d": [
           {
            "colorbar": {
             "outlinewidth": 0,
             "ticks": ""
            },
            "colorscale": [
             [
              0,
              "#0d0887"
             ],
             [
              0.1111111111111111,
              "#46039f"
             ],
             [
              0.2222222222222222,
              "#7201a8"
             ],
             [
              0.3333333333333333,
              "#9c179e"
             ],
             [
              0.4444444444444444,
              "#bd3786"
             ],
             [
              0.5555555555555556,
              "#d8576b"
             ],
             [
              0.6666666666666666,
              "#ed7953"
             ],
             [
              0.7777777777777778,
              "#fb9f3a"
             ],
             [
              0.8888888888888888,
              "#fdca26"
             ],
             [
              1,
              "#f0f921"
             ]
            ],
            "type": "histogram2d"
           }
          ],
          "histogram2dcontour": [
           {
            "colorbar": {
             "outlinewidth": 0,
             "ticks": ""
            },
            "colorscale": [
             [
              0,
              "#0d0887"
             ],
             [
              0.1111111111111111,
              "#46039f"
             ],
             [
              0.2222222222222222,
              "#7201a8"
             ],
             [
              0.3333333333333333,
              "#9c179e"
             ],
             [
              0.4444444444444444,
              "#bd3786"
             ],
             [
              0.5555555555555556,
              "#d8576b"
             ],
             [
              0.6666666666666666,
              "#ed7953"
             ],
             [
              0.7777777777777778,
              "#fb9f3a"
             ],
             [
              0.8888888888888888,
              "#fdca26"
             ],
             [
              1,
              "#f0f921"
             ]
            ],
            "type": "histogram2dcontour"
           }
          ],
          "mesh3d": [
           {
            "colorbar": {
             "outlinewidth": 0,
             "ticks": ""
            },
            "type": "mesh3d"
           }
          ],
          "parcoords": [
           {
            "line": {
             "colorbar": {
              "outlinewidth": 0,
              "ticks": ""
             }
            },
            "type": "parcoords"
           }
          ],
          "pie": [
           {
            "automargin": true,
            "type": "pie"
           }
          ],
          "scatter": [
           {
            "marker": {
             "colorbar": {
              "outlinewidth": 0,
              "ticks": ""
             }
            },
            "type": "scatter"
           }
          ],
          "scatter3d": [
           {
            "line": {
             "colorbar": {
              "outlinewidth": 0,
              "ticks": ""
             }
            },
            "marker": {
             "colorbar": {
              "outlinewidth": 0,
              "ticks": ""
             }
            },
            "type": "scatter3d"
           }
          ],
          "scattercarpet": [
           {
            "marker": {
             "colorbar": {
              "outlinewidth": 0,
              "ticks": ""
             }
            },
            "type": "scattercarpet"
           }
          ],
          "scattergeo": [
           {
            "marker": {
             "colorbar": {
              "outlinewidth": 0,
              "ticks": ""
             }
            },
            "type": "scattergeo"
           }
          ],
          "scattergl": [
           {
            "marker": {
             "colorbar": {
              "outlinewidth": 0,
              "ticks": ""
             }
            },
            "type": "scattergl"
           }
          ],
          "scattermapbox": [
           {
            "marker": {
             "colorbar": {
              "outlinewidth": 0,
              "ticks": ""
             }
            },
            "type": "scattermapbox"
           }
          ],
          "scatterpolar": [
           {
            "marker": {
             "colorbar": {
              "outlinewidth": 0,
              "ticks": ""
             }
            },
            "type": "scatterpolar"
           }
          ],
          "scatterpolargl": [
           {
            "marker": {
             "colorbar": {
              "outlinewidth": 0,
              "ticks": ""
             }
            },
            "type": "scatterpolargl"
           }
          ],
          "scatterternary": [
           {
            "marker": {
             "colorbar": {
              "outlinewidth": 0,
              "ticks": ""
             }
            },
            "type": "scatterternary"
           }
          ],
          "surface": [
           {
            "colorbar": {
             "outlinewidth": 0,
             "ticks": ""
            },
            "colorscale": [
             [
              0,
              "#0d0887"
             ],
             [
              0.1111111111111111,
              "#46039f"
             ],
             [
              0.2222222222222222,
              "#7201a8"
             ],
             [
              0.3333333333333333,
              "#9c179e"
             ],
             [
              0.4444444444444444,
              "#bd3786"
             ],
             [
              0.5555555555555556,
              "#d8576b"
             ],
             [
              0.6666666666666666,
              "#ed7953"
             ],
             [
              0.7777777777777778,
              "#fb9f3a"
             ],
             [
              0.8888888888888888,
              "#fdca26"
             ],
             [
              1,
              "#f0f921"
             ]
            ],
            "type": "surface"
           }
          ],
          "table": [
           {
            "cells": {
             "fill": {
              "color": "#EBF0F8"
             },
             "line": {
              "color": "white"
             }
            },
            "header": {
             "fill": {
              "color": "#C8D4E3"
             },
             "line": {
              "color": "white"
             }
            },
            "type": "table"
           }
          ]
         },
         "layout": {
          "annotationdefaults": {
           "arrowcolor": "#2a3f5f",
           "arrowhead": 0,
           "arrowwidth": 1
          },
          "autotypenumbers": "strict",
          "coloraxis": {
           "colorbar": {
            "outlinewidth": 0,
            "ticks": ""
           }
          },
          "colorscale": {
           "diverging": [
            [
             0,
             "#8e0152"
            ],
            [
             0.1,
             "#c51b7d"
            ],
            [
             0.2,
             "#de77ae"
            ],
            [
             0.3,
             "#f1b6da"
            ],
            [
             0.4,
             "#fde0ef"
            ],
            [
             0.5,
             "#f7f7f7"
            ],
            [
             0.6,
             "#e6f5d0"
            ],
            [
             0.7,
             "#b8e186"
            ],
            [
             0.8,
             "#7fbc41"
            ],
            [
             0.9,
             "#4d9221"
            ],
            [
             1,
             "#276419"
            ]
           ],
           "sequential": [
            [
             0,
             "#0d0887"
            ],
            [
             0.1111111111111111,
             "#46039f"
            ],
            [
             0.2222222222222222,
             "#7201a8"
            ],
            [
             0.3333333333333333,
             "#9c179e"
            ],
            [
             0.4444444444444444,
             "#bd3786"
            ],
            [
             0.5555555555555556,
             "#d8576b"
            ],
            [
             0.6666666666666666,
             "#ed7953"
            ],
            [
             0.7777777777777778,
             "#fb9f3a"
            ],
            [
             0.8888888888888888,
             "#fdca26"
            ],
            [
             1,
             "#f0f921"
            ]
           ],
           "sequentialminus": [
            [
             0,
             "#0d0887"
            ],
            [
             0.1111111111111111,
             "#46039f"
            ],
            [
             0.2222222222222222,
             "#7201a8"
            ],
            [
             0.3333333333333333,
             "#9c179e"
            ],
            [
             0.4444444444444444,
             "#bd3786"
            ],
            [
             0.5555555555555556,
             "#d8576b"
            ],
            [
             0.6666666666666666,
             "#ed7953"
            ],
            [
             0.7777777777777778,
             "#fb9f3a"
            ],
            [
             0.8888888888888888,
             "#fdca26"
            ],
            [
             1,
             "#f0f921"
            ]
           ]
          },
          "colorway": [
           "#636efa",
           "#EF553B",
           "#00cc96",
           "#ab63fa",
           "#FFA15A",
           "#19d3f3",
           "#FF6692",
           "#B6E880",
           "#FF97FF",
           "#FECB52"
          ],
          "font": {
           "color": "#2a3f5f"
          },
          "geo": {
           "bgcolor": "white",
           "lakecolor": "white",
           "landcolor": "#E5ECF6",
           "showlakes": true,
           "showland": true,
           "subunitcolor": "white"
          },
          "hoverlabel": {
           "align": "left"
          },
          "hovermode": "closest",
          "mapbox": {
           "style": "light"
          },
          "paper_bgcolor": "white",
          "plot_bgcolor": "#E5ECF6",
          "polar": {
           "angularaxis": {
            "gridcolor": "white",
            "linecolor": "white",
            "ticks": ""
           },
           "bgcolor": "#E5ECF6",
           "radialaxis": {
            "gridcolor": "white",
            "linecolor": "white",
            "ticks": ""
           }
          },
          "scene": {
           "xaxis": {
            "backgroundcolor": "#E5ECF6",
            "gridcolor": "white",
            "gridwidth": 2,
            "linecolor": "white",
            "showbackground": true,
            "ticks": "",
            "zerolinecolor": "white"
           },
           "yaxis": {
            "backgroundcolor": "#E5ECF6",
            "gridcolor": "white",
            "gridwidth": 2,
            "linecolor": "white",
            "showbackground": true,
            "ticks": "",
            "zerolinecolor": "white"
           },
           "zaxis": {
            "backgroundcolor": "#E5ECF6",
            "gridcolor": "white",
            "gridwidth": 2,
            "linecolor": "white",
            "showbackground": true,
            "ticks": "",
            "zerolinecolor": "white"
           }
          },
          "shapedefaults": {
           "line": {
            "color": "#2a3f5f"
           }
          },
          "ternary": {
           "aaxis": {
            "gridcolor": "white",
            "linecolor": "white",
            "ticks": ""
           },
           "baxis": {
            "gridcolor": "white",
            "linecolor": "white",
            "ticks": ""
           },
           "bgcolor": "#E5ECF6",
           "caxis": {
            "gridcolor": "white",
            "linecolor": "white",
            "ticks": ""
           }
          },
          "title": {
           "x": 0.05
          },
          "xaxis": {
           "automargin": true,
           "gridcolor": "white",
           "linecolor": "white",
           "ticks": "",
           "title": {
            "standoff": 15
           },
           "zerolinecolor": "white",
           "zerolinewidth": 2
          },
          "yaxis": {
           "automargin": true,
           "gridcolor": "white",
           "linecolor": "white",
           "ticks": "",
           "title": {
            "standoff": 15
           },
           "zerolinecolor": "white",
           "zerolinewidth": 2
          }
         }
        },
        "xaxis": {
         "anchor": "y",
         "domain": [
          0,
          1
         ],
         "title": {
          "text": "rating"
         }
        },
        "yaxis": {
         "anchor": "x",
         "domain": [
          0,
          1
         ],
         "title": {
          "text": "value"
         }
        }
       }
      }
     },
     "metadata": {},
     "output_type": "display_data"
    }
   ],
   "source": [
    "real=df.groupby(['rating'])['userId'].count()\n",
    "real=pd.DataFrame(real)\n",
    "fig = px.line(real)\n",
    "fig.show()\n",
    "\n"
   ]
  },
  {
   "cell_type": "code",
   "execution_count": 7,
   "metadata": {},
   "outputs": [
    {
     "data": {
      "application/vnd.plotly.v1+json": {
       "config": {
        "plotlyServerURL": "https://plot.ly"
       },
       "data": [
        {
         "hovertemplate": "variable=rating<br>userId=%{x}<br>value=%{y}<extra></extra>",
         "legendgroup": "rating",
         "line": {
          "color": "#636efa",
          "dash": "solid"
         },
         "marker": {
          "symbol": "circle"
         },
         "mode": "lines",
         "name": "rating",
         "orientation": "v",
         "showlegend": true,
         "type": "scatter",
         "x": [
          1,
          2,
          3,
          4,
          5,
          6,
          7,
          8,
          9,
          10,
          11,
          12,
          13,
          14,
          15,
          16,
          17,
          18,
          19,
          20,
          21,
          22,
          23,
          24,
          25,
          26,
          27,
          28,
          29,
          30,
          31,
          32,
          33,
          34,
          35,
          36,
          37,
          38,
          39,
          40,
          41,
          42,
          43,
          44,
          45,
          46,
          47,
          48,
          49,
          50,
          51,
          52,
          53,
          54,
          55,
          56,
          57,
          58,
          59,
          60,
          61,
          62,
          63,
          64,
          65,
          66,
          67,
          68,
          69,
          70,
          71,
          72,
          73,
          74,
          75,
          76,
          77,
          78,
          79,
          80,
          81,
          82,
          83,
          84,
          85,
          86,
          87,
          88,
          89,
          90,
          91,
          92,
          93,
          94,
          95,
          96,
          97,
          98,
          99,
          100,
          101,
          102,
          103,
          104,
          105,
          106,
          107,
          108,
          109,
          110,
          111,
          112,
          113,
          114,
          115,
          116,
          117,
          118,
          119,
          120,
          121,
          122,
          123,
          124,
          125,
          126,
          127,
          128,
          129,
          130,
          131,
          132,
          133,
          134,
          135,
          136,
          137,
          138,
          139,
          140,
          141,
          142,
          143,
          144,
          145,
          146,
          147,
          148,
          149,
          150,
          151,
          152,
          153,
          154,
          155,
          156,
          157,
          158,
          159,
          160,
          161,
          162,
          163,
          164,
          165,
          166,
          167,
          168,
          169,
          170,
          171,
          172,
          173,
          174,
          175,
          176,
          177,
          178,
          179,
          180,
          181,
          182,
          183,
          184,
          185,
          186,
          187,
          188,
          189,
          190,
          191,
          192,
          193,
          194,
          195,
          196,
          197,
          198,
          199,
          200,
          201,
          202,
          203,
          204,
          205,
          206,
          207,
          208,
          209,
          210,
          211,
          212,
          213,
          214,
          215,
          216,
          217,
          218,
          219,
          220,
          221,
          222,
          223,
          224,
          225,
          226,
          227,
          228,
          229,
          230,
          231,
          232,
          233,
          234,
          235,
          236,
          237,
          238,
          239,
          240,
          241,
          242,
          243,
          244,
          245,
          246,
          247,
          248,
          249,
          250,
          251,
          252,
          253,
          254,
          255,
          256,
          257,
          258,
          259,
          260,
          261,
          262,
          263,
          264,
          265,
          266,
          267,
          268,
          269,
          270,
          271,
          272,
          273,
          274,
          275,
          276,
          277,
          278,
          279,
          280,
          281,
          282,
          283,
          284,
          285,
          286,
          287,
          288,
          289,
          290,
          291,
          292,
          293,
          294,
          295,
          296,
          297,
          298,
          299,
          300,
          301,
          302,
          303,
          304,
          305,
          306,
          307,
          308,
          309,
          310,
          311,
          312,
          313,
          314,
          315,
          316,
          317,
          318,
          319,
          320,
          321,
          322,
          323,
          324,
          325,
          326,
          327,
          328,
          329,
          330,
          331,
          332,
          333,
          334,
          335,
          336,
          337,
          338,
          339,
          340,
          341,
          342,
          343,
          344,
          345,
          346,
          347,
          348,
          349,
          350,
          351,
          352,
          353,
          354,
          355,
          356,
          357,
          358,
          359,
          360,
          361,
          362,
          363,
          364,
          365,
          366,
          367,
          368,
          369,
          370,
          371,
          372,
          373,
          374,
          375,
          376,
          377,
          378,
          379,
          380,
          381,
          382,
          383,
          384,
          385,
          386,
          387,
          388,
          389,
          390,
          391,
          392,
          393,
          394,
          395,
          396,
          397,
          398,
          399,
          400,
          401,
          402,
          403,
          404,
          405,
          406,
          407,
          408,
          409,
          410,
          411,
          412,
          413,
          414,
          415,
          416,
          417,
          418,
          419,
          420,
          421,
          422,
          423,
          424,
          425,
          426,
          427,
          428,
          429,
          430,
          431,
          432,
          433,
          434,
          435,
          436,
          437,
          438,
          439,
          440,
          441,
          442,
          443,
          444,
          445,
          446,
          447,
          448,
          449,
          450,
          451,
          452,
          453,
          454,
          455,
          456,
          457,
          458,
          459,
          460,
          461,
          462,
          463,
          464,
          465,
          466,
          467,
          468,
          469,
          470,
          471,
          472,
          473,
          474,
          475,
          476,
          477,
          478,
          479,
          480,
          481,
          482,
          483,
          484,
          485,
          486,
          487,
          488,
          489,
          490,
          491,
          492,
          493,
          494,
          495,
          496,
          497,
          498,
          499,
          500,
          501,
          502,
          503,
          504,
          505,
          506,
          507,
          508,
          509,
          510,
          511,
          512,
          513,
          514,
          515,
          516,
          517,
          518,
          519,
          520,
          521,
          522,
          523,
          524,
          525,
          526,
          527,
          528,
          529,
          530,
          531,
          532,
          533,
          534,
          535,
          536,
          537,
          538,
          539,
          540,
          541,
          542,
          543,
          544,
          545,
          546,
          547,
          548,
          549,
          550,
          551,
          552,
          553,
          554,
          555,
          556,
          557,
          558,
          559,
          560,
          561,
          562,
          563,
          564,
          565,
          566,
          567,
          568,
          569,
          570,
          571,
          572,
          573,
          574,
          575,
          576,
          577,
          578,
          579,
          580,
          581,
          582,
          583,
          584,
          585,
          586,
          587,
          588,
          589,
          590,
          591,
          592,
          593,
          594,
          595,
          596,
          597,
          598,
          599,
          600,
          601,
          602,
          603,
          604,
          605,
          606,
          607,
          608,
          609,
          610
         ],
         "xaxis": "x",
         "y": [
          232,
          29,
          39,
          216,
          44,
          314,
          152,
          47,
          46,
          140,
          64,
          32,
          31,
          48,
          135,
          98,
          105,
          502,
          703,
          242,
          443,
          119,
          121,
          110,
          26,
          21,
          135,
          570,
          81,
          34,
          50,
          102,
          156,
          86,
          23,
          60,
          21,
          78,
          100,
          103,
          217,
          440,
          114,
          48,
          399,
          42,
          140,
          33,
          21,
          310,
          359,
          130,
          20,
          33,
          25,
          46,
          476,
          112,
          107,
          22,
          39,
          366,
          271,
          517,
          34,
          345,
          36,
          1260,
          46,
          62,
          35,
          45,
          210,
          177,
          69,
          119,
          29,
          61,
          64,
          167,
          26,
          227,
          118,
          293,
          34,
          70,
          21,
          56,
          518,
          54,
          575,
          24,
          97,
          56,
          168,
          78,
          36,
          92,
          53,
          148,
          61,
          56,
          377,
          273,
          722,
          33,
          34,
          76,
          127,
          51,
          646,
          65,
          150,
          31,
          112,
          87,
          165,
          22,
          215,
          22,
          58,
          292,
          56,
          50,
          360,
          38,
          22,
          33,
          140,
          28,
          69,
          347,
          35,
          35,
          279,
          111,
          141,
          22,
          194,
          608,
          168,
          38,
          71,
          128,
          23,
          32,
          20,
          48,
          58,
          26,
          59,
          63,
          179,
          34,
          46,
          398,
          21,
          26,
          97,
          437,
          39,
          38,
          23,
          36,
          65,
          190,
          173,
          94,
          269,
          50,
          82,
          26,
          25,
          67,
          24,
          36,
          904,
          77,
          69,
          24,
          118,
          977,
          57,
          134,
          47,
          226,
          258,
          48,
          20,
          66,
          85,
          22,
          35,
          20,
          187,
          32,
          35,
          230,
          363,
          334,
          110,
          403,
          45,
          83,
          27,
          25,
          20,
          26,
          35,
          138,
          89,
          248,
          84,
          22,
          98,
          164,
          613,
          26,
          528,
          207,
          331,
          250,
          75,
          54,
          75,
          507,
          94,
          25,
          65,
          139,
          24,
          862,
          150,
          202,
          65,
          30,
          50,
          44,
          279,
          128,
          76,
          35,
          36,
          93,
          21,
          204,
          150,
          51,
          1046,
          27,
          23,
          38,
          47,
          127,
          44,
          174,
          20,
          25,
          29,
          152,
          53,
          57,
          210,
          56,
          163,
          180,
          57,
          129,
          29,
          40,
          43,
          31,
          55,
          1346,
          403,
          41,
          28,
          20,
          176,
          196,
          21,
          237,
          35,
          88,
          36,
          106,
          152,
          1055,
          24,
          267,
          31,
          446,
          21,
          437,
          41,
          27,
          72,
          939,
          23,
          32,
          114,
          32,
          53,
          216,
          677,
          112,
          975,
          115,
          103,
          64,
          28,
          223,
          340,
          128,
          33,
          53,
          189,
          879,
          35,
          20,
          56,
          107,
          98,
          21,
          270,
          152,
          48,
          255,
          23,
          247,
          168,
          267,
          25,
          154,
          28,
          56,
          77,
          39,
          371,
          28,
          52,
          66,
          59,
          69,
          62,
          164,
          45,
          55,
          37,
          40,
          141,
          294,
          90,
          226,
          26,
          289,
          383,
          41,
          74,
          25,
          97,
          109,
          30,
          21,
          277,
          31,
          185,
          469,
          129,
          93,
          41,
          236,
          100,
          33,
          33,
          133,
          131,
          48,
          36,
          1218,
          474,
          291,
          34,
          70,
          201,
          68,
          1027,
          29,
          34,
          81,
          386,
          25,
          123,
          23,
          61,
          28,
          23,
          46,
          36,
          43,
          72,
          48,
          34,
          60,
          120,
          20,
          22,
          141,
          126,
          167,
          127,
          102,
          56,
          2698,
          94,
          51,
          67,
          93,
          155,
          141,
          37,
          93,
          23,
          138,
          306,
          88,
          84,
          300,
          58,
          58,
          20,
          260,
          22,
          233,
          42,
          106,
          122,
          635,
          21,
          33,
          45,
          20,
          37,
          42,
          77,
          84,
          78,
          1864,
          38,
          51,
          34,
          202,
          311,
          45,
          57,
          43,
          50,
          59,
          26,
          82,
          27,
          455,
          33,
          138,
          115,
          113,
          22,
          33,
          465,
          80,
          28,
          29,
          37,
          2108,
          155,
          69,
          600,
          22,
          181,
          836,
          31,
          128,
          728,
          275,
          23,
          56,
          56,
          111,
          648,
          113,
          64,
          121,
          61,
          22,
          265,
          29,
          51,
          35,
          27,
          86,
          45,
          35,
          95,
          87,
          31,
          42,
          21,
          24,
          467,
          108,
          52,
          50,
          32,
          397,
          26,
          26,
          400,
          24,
          26,
          186,
          40,
          200,
          75,
          131,
          500,
          58,
          167,
          73,
          25,
          27,
          22,
          50,
          38,
          520,
          30,
          40,
          47,
          37,
          38,
          42,
          87,
          113,
          76,
          22,
          23,
          64,
          21,
          26,
          21,
          28,
          123,
          188,
          83,
          89,
          578,
          32,
          27,
          56,
          140,
          458,
          505,
          231,
          213,
          157,
          29,
          74,
          385,
          23,
          20,
          191,
          112,
          155,
          299,
          23,
          36,
          20,
          161,
          27,
          73,
          436,
          40,
          56,
          56,
          83,
          61,
          208,
          165,
          56,
          40,
          728,
          54,
          94,
          103,
          232,
          20,
          411,
          443,
          21,
          2478,
          763,
          101,
          135,
          943,
          100,
          221,
          1115,
          187,
          831,
          37,
          1302
         ],
         "yaxis": "y"
        }
       ],
       "layout": {
        "legend": {
         "title": {
          "text": "variable"
         },
         "tracegroupgap": 0
        },
        "margin": {
         "t": 60
        },
        "template": {
         "data": {
          "bar": [
           {
            "error_x": {
             "color": "#2a3f5f"
            },
            "error_y": {
             "color": "#2a3f5f"
            },
            "marker": {
             "line": {
              "color": "#E5ECF6",
              "width": 0.5
             },
             "pattern": {
              "fillmode": "overlay",
              "size": 10,
              "solidity": 0.2
             }
            },
            "type": "bar"
           }
          ],
          "barpolar": [
           {
            "marker": {
             "line": {
              "color": "#E5ECF6",
              "width": 0.5
             },
             "pattern": {
              "fillmode": "overlay",
              "size": 10,
              "solidity": 0.2
             }
            },
            "type": "barpolar"
           }
          ],
          "carpet": [
           {
            "aaxis": {
             "endlinecolor": "#2a3f5f",
             "gridcolor": "white",
             "linecolor": "white",
             "minorgridcolor": "white",
             "startlinecolor": "#2a3f5f"
            },
            "baxis": {
             "endlinecolor": "#2a3f5f",
             "gridcolor": "white",
             "linecolor": "white",
             "minorgridcolor": "white",
             "startlinecolor": "#2a3f5f"
            },
            "type": "carpet"
           }
          ],
          "choropleth": [
           {
            "colorbar": {
             "outlinewidth": 0,
             "ticks": ""
            },
            "type": "choropleth"
           }
          ],
          "contour": [
           {
            "colorbar": {
             "outlinewidth": 0,
             "ticks": ""
            },
            "colorscale": [
             [
              0,
              "#0d0887"
             ],
             [
              0.1111111111111111,
              "#46039f"
             ],
             [
              0.2222222222222222,
              "#7201a8"
             ],
             [
              0.3333333333333333,
              "#9c179e"
             ],
             [
              0.4444444444444444,
              "#bd3786"
             ],
             [
              0.5555555555555556,
              "#d8576b"
             ],
             [
              0.6666666666666666,
              "#ed7953"
             ],
             [
              0.7777777777777778,
              "#fb9f3a"
             ],
             [
              0.8888888888888888,
              "#fdca26"
             ],
             [
              1,
              "#f0f921"
             ]
            ],
            "type": "contour"
           }
          ],
          "contourcarpet": [
           {
            "colorbar": {
             "outlinewidth": 0,
             "ticks": ""
            },
            "type": "contourcarpet"
           }
          ],
          "heatmap": [
           {
            "colorbar": {
             "outlinewidth": 0,
             "ticks": ""
            },
            "colorscale": [
             [
              0,
              "#0d0887"
             ],
             [
              0.1111111111111111,
              "#46039f"
             ],
             [
              0.2222222222222222,
              "#7201a8"
             ],
             [
              0.3333333333333333,
              "#9c179e"
             ],
             [
              0.4444444444444444,
              "#bd3786"
             ],
             [
              0.5555555555555556,
              "#d8576b"
             ],
             [
              0.6666666666666666,
              "#ed7953"
             ],
             [
              0.7777777777777778,
              "#fb9f3a"
             ],
             [
              0.8888888888888888,
              "#fdca26"
             ],
             [
              1,
              "#f0f921"
             ]
            ],
            "type": "heatmap"
           }
          ],
          "heatmapgl": [
           {
            "colorbar": {
             "outlinewidth": 0,
             "ticks": ""
            },
            "colorscale": [
             [
              0,
              "#0d0887"
             ],
             [
              0.1111111111111111,
              "#46039f"
             ],
             [
              0.2222222222222222,
              "#7201a8"
             ],
             [
              0.3333333333333333,
              "#9c179e"
             ],
             [
              0.4444444444444444,
              "#bd3786"
             ],
             [
              0.5555555555555556,
              "#d8576b"
             ],
             [
              0.6666666666666666,
              "#ed7953"
             ],
             [
              0.7777777777777778,
              "#fb9f3a"
             ],
             [
              0.8888888888888888,
              "#fdca26"
             ],
             [
              1,
              "#f0f921"
             ]
            ],
            "type": "heatmapgl"
           }
          ],
          "histogram": [
           {
            "marker": {
             "pattern": {
              "fillmode": "overlay",
              "size": 10,
              "solidity": 0.2
             }
            },
            "type": "histogram"
           }
          ],
          "histogram2d": [
           {
            "colorbar": {
             "outlinewidth": 0,
             "ticks": ""
            },
            "colorscale": [
             [
              0,
              "#0d0887"
             ],
             [
              0.1111111111111111,
              "#46039f"
             ],
             [
              0.2222222222222222,
              "#7201a8"
             ],
             [
              0.3333333333333333,
              "#9c179e"
             ],
             [
              0.4444444444444444,
              "#bd3786"
             ],
             [
              0.5555555555555556,
              "#d8576b"
             ],
             [
              0.6666666666666666,
              "#ed7953"
             ],
             [
              0.7777777777777778,
              "#fb9f3a"
             ],
             [
              0.8888888888888888,
              "#fdca26"
             ],
             [
              1,
              "#f0f921"
             ]
            ],
            "type": "histogram2d"
           }
          ],
          "histogram2dcontour": [
           {
            "colorbar": {
             "outlinewidth": 0,
             "ticks": ""
            },
            "colorscale": [
             [
              0,
              "#0d0887"
             ],
             [
              0.1111111111111111,
              "#46039f"
             ],
             [
              0.2222222222222222,
              "#7201a8"
             ],
             [
              0.3333333333333333,
              "#9c179e"
             ],
             [
              0.4444444444444444,
              "#bd3786"
             ],
             [
              0.5555555555555556,
              "#d8576b"
             ],
             [
              0.6666666666666666,
              "#ed7953"
             ],
             [
              0.7777777777777778,
              "#fb9f3a"
             ],
             [
              0.8888888888888888,
              "#fdca26"
             ],
             [
              1,
              "#f0f921"
             ]
            ],
            "type": "histogram2dcontour"
           }
          ],
          "mesh3d": [
           {
            "colorbar": {
             "outlinewidth": 0,
             "ticks": ""
            },
            "type": "mesh3d"
           }
          ],
          "parcoords": [
           {
            "line": {
             "colorbar": {
              "outlinewidth": 0,
              "ticks": ""
             }
            },
            "type": "parcoords"
           }
          ],
          "pie": [
           {
            "automargin": true,
            "type": "pie"
           }
          ],
          "scatter": [
           {
            "marker": {
             "colorbar": {
              "outlinewidth": 0,
              "ticks": ""
             }
            },
            "type": "scatter"
           }
          ],
          "scatter3d": [
           {
            "line": {
             "colorbar": {
              "outlinewidth": 0,
              "ticks": ""
             }
            },
            "marker": {
             "colorbar": {
              "outlinewidth": 0,
              "ticks": ""
             }
            },
            "type": "scatter3d"
           }
          ],
          "scattercarpet": [
           {
            "marker": {
             "colorbar": {
              "outlinewidth": 0,
              "ticks": ""
             }
            },
            "type": "scattercarpet"
           }
          ],
          "scattergeo": [
           {
            "marker": {
             "colorbar": {
              "outlinewidth": 0,
              "ticks": ""
             }
            },
            "type": "scattergeo"
           }
          ],
          "scattergl": [
           {
            "marker": {
             "colorbar": {
              "outlinewidth": 0,
              "ticks": ""
             }
            },
            "type": "scattergl"
           }
          ],
          "scattermapbox": [
           {
            "marker": {
             "colorbar": {
              "outlinewidth": 0,
              "ticks": ""
             }
            },
            "type": "scattermapbox"
           }
          ],
          "scatterpolar": [
           {
            "marker": {
             "colorbar": {
              "outlinewidth": 0,
              "ticks": ""
             }
            },
            "type": "scatterpolar"
           }
          ],
          "scatterpolargl": [
           {
            "marker": {
             "colorbar": {
              "outlinewidth": 0,
              "ticks": ""
             }
            },
            "type": "scatterpolargl"
           }
          ],
          "scatterternary": [
           {
            "marker": {
             "colorbar": {
              "outlinewidth": 0,
              "ticks": ""
             }
            },
            "type": "scatterternary"
           }
          ],
          "surface": [
           {
            "colorbar": {
             "outlinewidth": 0,
             "ticks": ""
            },
            "colorscale": [
             [
              0,
              "#0d0887"
             ],
             [
              0.1111111111111111,
              "#46039f"
             ],
             [
              0.2222222222222222,
              "#7201a8"
             ],
             [
              0.3333333333333333,
              "#9c179e"
             ],
             [
              0.4444444444444444,
              "#bd3786"
             ],
             [
              0.5555555555555556,
              "#d8576b"
             ],
             [
              0.6666666666666666,
              "#ed7953"
             ],
             [
              0.7777777777777778,
              "#fb9f3a"
             ],
             [
              0.8888888888888888,
              "#fdca26"
             ],
             [
              1,
              "#f0f921"
             ]
            ],
            "type": "surface"
           }
          ],
          "table": [
           {
            "cells": {
             "fill": {
              "color": "#EBF0F8"
             },
             "line": {
              "color": "white"
             }
            },
            "header": {
             "fill": {
              "color": "#C8D4E3"
             },
             "line": {
              "color": "white"
             }
            },
            "type": "table"
           }
          ]
         },
         "layout": {
          "annotationdefaults": {
           "arrowcolor": "#2a3f5f",
           "arrowhead": 0,
           "arrowwidth": 1
          },
          "autotypenumbers": "strict",
          "coloraxis": {
           "colorbar": {
            "outlinewidth": 0,
            "ticks": ""
           }
          },
          "colorscale": {
           "diverging": [
            [
             0,
             "#8e0152"
            ],
            [
             0.1,
             "#c51b7d"
            ],
            [
             0.2,
             "#de77ae"
            ],
            [
             0.3,
             "#f1b6da"
            ],
            [
             0.4,
             "#fde0ef"
            ],
            [
             0.5,
             "#f7f7f7"
            ],
            [
             0.6,
             "#e6f5d0"
            ],
            [
             0.7,
             "#b8e186"
            ],
            [
             0.8,
             "#7fbc41"
            ],
            [
             0.9,
             "#4d9221"
            ],
            [
             1,
             "#276419"
            ]
           ],
           "sequential": [
            [
             0,
             "#0d0887"
            ],
            [
             0.1111111111111111,
             "#46039f"
            ],
            [
             0.2222222222222222,
             "#7201a8"
            ],
            [
             0.3333333333333333,
             "#9c179e"
            ],
            [
             0.4444444444444444,
             "#bd3786"
            ],
            [
             0.5555555555555556,
             "#d8576b"
            ],
            [
             0.6666666666666666,
             "#ed7953"
            ],
            [
             0.7777777777777778,
             "#fb9f3a"
            ],
            [
             0.8888888888888888,
             "#fdca26"
            ],
            [
             1,
             "#f0f921"
            ]
           ],
           "sequentialminus": [
            [
             0,
             "#0d0887"
            ],
            [
             0.1111111111111111,
             "#46039f"
            ],
            [
             0.2222222222222222,
             "#7201a8"
            ],
            [
             0.3333333333333333,
             "#9c179e"
            ],
            [
             0.4444444444444444,
             "#bd3786"
            ],
            [
             0.5555555555555556,
             "#d8576b"
            ],
            [
             0.6666666666666666,
             "#ed7953"
            ],
            [
             0.7777777777777778,
             "#fb9f3a"
            ],
            [
             0.8888888888888888,
             "#fdca26"
            ],
            [
             1,
             "#f0f921"
            ]
           ]
          },
          "colorway": [
           "#636efa",
           "#EF553B",
           "#00cc96",
           "#ab63fa",
           "#FFA15A",
           "#19d3f3",
           "#FF6692",
           "#B6E880",
           "#FF97FF",
           "#FECB52"
          ],
          "font": {
           "color": "#2a3f5f"
          },
          "geo": {
           "bgcolor": "white",
           "lakecolor": "white",
           "landcolor": "#E5ECF6",
           "showlakes": true,
           "showland": true,
           "subunitcolor": "white"
          },
          "hoverlabel": {
           "align": "left"
          },
          "hovermode": "closest",
          "mapbox": {
           "style": "light"
          },
          "paper_bgcolor": "white",
          "plot_bgcolor": "#E5ECF6",
          "polar": {
           "angularaxis": {
            "gridcolor": "white",
            "linecolor": "white",
            "ticks": ""
           },
           "bgcolor": "#E5ECF6",
           "radialaxis": {
            "gridcolor": "white",
            "linecolor": "white",
            "ticks": ""
           }
          },
          "scene": {
           "xaxis": {
            "backgroundcolor": "#E5ECF6",
            "gridcolor": "white",
            "gridwidth": 2,
            "linecolor": "white",
            "showbackground": true,
            "ticks": "",
            "zerolinecolor": "white"
           },
           "yaxis": {
            "backgroundcolor": "#E5ECF6",
            "gridcolor": "white",
            "gridwidth": 2,
            "linecolor": "white",
            "showbackground": true,
            "ticks": "",
            "zerolinecolor": "white"
           },
           "zaxis": {
            "backgroundcolor": "#E5ECF6",
            "gridcolor": "white",
            "gridwidth": 2,
            "linecolor": "white",
            "showbackground": true,
            "ticks": "",
            "zerolinecolor": "white"
           }
          },
          "shapedefaults": {
           "line": {
            "color": "#2a3f5f"
           }
          },
          "ternary": {
           "aaxis": {
            "gridcolor": "white",
            "linecolor": "white",
            "ticks": ""
           },
           "baxis": {
            "gridcolor": "white",
            "linecolor": "white",
            "ticks": ""
           },
           "bgcolor": "#E5ECF6",
           "caxis": {
            "gridcolor": "white",
            "linecolor": "white",
            "ticks": ""
           }
          },
          "title": {
           "x": 0.05
          },
          "xaxis": {
           "automargin": true,
           "gridcolor": "white",
           "linecolor": "white",
           "ticks": "",
           "title": {
            "standoff": 15
           },
           "zerolinecolor": "white",
           "zerolinewidth": 2
          },
          "yaxis": {
           "automargin": true,
           "gridcolor": "white",
           "linecolor": "white",
           "ticks": "",
           "title": {
            "standoff": 15
           },
           "zerolinecolor": "white",
           "zerolinewidth": 2
          }
         }
        },
        "xaxis": {
         "anchor": "y",
         "domain": [
          0,
          1
         ],
         "title": {
          "text": "userId"
         }
        },
        "yaxis": {
         "anchor": "x",
         "domain": [
          0,
          1
         ],
         "title": {
          "text": "value"
         }
        }
       }
      }
     },
     "metadata": {},
     "output_type": "display_data"
    }
   ],
   "source": [
    "real=df.groupby(['userId'])['rating'].count()\n",
    "real=pd.DataFrame(real)\n",
    "fig = px.line(real)\n",
    "fig.show()"
   ]
  },
  {
   "cell_type": "code",
   "execution_count": 8,
   "metadata": {},
   "outputs": [],
   "source": [
    "df['userId'] = df['userId'].astype(str)\n",
    "df['movieId'] = df['movieId'].astype(str)\n",
    "df['userId'] = 'person_'+df['userId'].astype(str)\n",
    "df['movieId'] = 'movie_'+df['movieId'].astype(str)"
   ]
  },
  {
   "cell_type": "code",
   "execution_count": 9,
   "metadata": {},
   "outputs": [],
   "source": [
    "df_new=df.copy()\n",
    "df=df.rename(columns={\"movieId\": \"userId/movieId\"})\n",
    "df = df.pivot_table(index=['userId'], columns='userId/movieId', values='rating', aggfunc=np.sum).reset_index()\n",
    "df.index=df['userId'].values\n",
    "df=df.drop(['userId'], axis=1)"
   ]
  },
  {
   "cell_type": "code",
   "execution_count": 10,
   "metadata": {},
   "outputs": [
    {
     "name": "stdout",
     "output_type": "stream",
     "text": [
      "0.5 5.0\n"
     ]
    }
   ],
   "source": [
    "copy = df_new.copy()\n",
    "df_new = df.copy()\n",
    "df = copy.copy()\n",
    "minimum_rating = min(df['rating'].values)\n",
    "maximum_rating = max(df['rating'].values)\n",
    "print(minimum_rating,maximum_rating)"
   ]
  },
  {
   "cell_type": "code",
   "execution_count": 11,
   "metadata": {},
   "outputs": [],
   "source": [
    "reader = Reader(rating_scale=(minimum_rating,maximum_rating))\n",
    "data = Dataset.load_from_df(df[['userId', 'movieId', 'rating']], reader)"
   ]
  },
  {
   "cell_type": "code",
   "execution_count": 12,
   "metadata": {},
   "outputs": [
    {
     "name": "stderr",
     "output_type": "stream",
     "text": [
      "C:\\Users\\dimav\\AppData\\Local\\Temp/ipykernel_10656/1063358168.py:2: DeprecationWarning:\n",
      "\n",
      "`np.int` is a deprecated alias for the builtin `int`. To silence this warning, use `int` by itself. Doing this will not modify any behavior and is safe. When replacing `np.int`, you may wish to use e.g. `np.int64` or `np.int32` to specify the precision. If you wish to review your current use, check the release note link for additional information.\n",
      "Deprecated in NumPy 1.20; for more details and guidance: https://numpy.org/devdocs/release/1.20.0-notes.html#deprecations\n",
      "\n"
     ]
    },
    {
     "data": {
      "text/plain": [
       "<surprise.prediction_algorithms.slope_one.SlopeOne at 0x2292a20f760>"
      ]
     },
     "execution_count": 12,
     "metadata": {},
     "output_type": "execute_result"
    }
   ],
   "source": [
    "slope = SlopeOne()\n",
    "slope.fit(data.build_full_trainset())"
   ]
  },
  {
   "cell_type": "code",
   "execution_count": 13,
   "metadata": {},
   "outputs": [
    {
     "data": {
      "text/html": [
       "<div>\n",
       "<style scoped>\n",
       "    .dataframe tbody tr th:only-of-type {\n",
       "        vertical-align: middle;\n",
       "    }\n",
       "\n",
       "    .dataframe tbody tr th {\n",
       "        vertical-align: top;\n",
       "    }\n",
       "\n",
       "    .dataframe thead th {\n",
       "        text-align: right;\n",
       "    }\n",
       "</style>\n",
       "<table border=\"1\" class=\"dataframe\">\n",
       "  <thead>\n",
       "    <tr style=\"text-align: right;\">\n",
       "      <th>userId/movieId</th>\n",
       "      <th>movie_1</th>\n",
       "      <th>movie_10</th>\n",
       "      <th>movie_100</th>\n",
       "      <th>movie_100044</th>\n",
       "      <th>movie_100068</th>\n",
       "      <th>movie_100083</th>\n",
       "      <th>movie_100106</th>\n",
       "      <th>movie_100159</th>\n",
       "      <th>movie_100163</th>\n",
       "      <th>movie_100194</th>\n",
       "      <th>...</th>\n",
       "      <th>movie_99750</th>\n",
       "      <th>movie_99764</th>\n",
       "      <th>movie_998</th>\n",
       "      <th>movie_99813</th>\n",
       "      <th>movie_99846</th>\n",
       "      <th>movie_99853</th>\n",
       "      <th>movie_999</th>\n",
       "      <th>movie_99910</th>\n",
       "      <th>movie_99917</th>\n",
       "      <th>movie_99992</th>\n",
       "    </tr>\n",
       "  </thead>\n",
       "  <tbody>\n",
       "    <tr>\n",
       "      <th>person_1</th>\n",
       "      <td>4.0000</td>\n",
       "      <td>4.2665</td>\n",
       "      <td>3.5419</td>\n",
       "      <td>4.7950</td>\n",
       "      <td>4.0298</td>\n",
       "      <td>3.5708</td>\n",
       "      <td>3.7950</td>\n",
       "      <td>4.2070</td>\n",
       "      <td>3.1950</td>\n",
       "      <td>5.0000</td>\n",
       "      <td>...</td>\n",
       "      <td>3.5027</td>\n",
       "      <td>4.0773</td>\n",
       "      <td>3.1887</td>\n",
       "      <td>4.7391</td>\n",
       "      <td>3.7333</td>\n",
       "      <td>5.0000</td>\n",
       "      <td>4.0398</td>\n",
       "      <td>3.3216</td>\n",
       "      <td>4.2505</td>\n",
       "      <td>3.7333</td>\n",
       "    </tr>\n",
       "    <tr>\n",
       "      <th>person_10</th>\n",
       "      <td>3.7932</td>\n",
       "      <td>3.4834</td>\n",
       "      <td>2.3127</td>\n",
       "      <td>3.8600</td>\n",
       "      <td>2.5331</td>\n",
       "      <td>2.6999</td>\n",
       "      <td>2.8600</td>\n",
       "      <td>3.4484</td>\n",
       "      <td>2.3497</td>\n",
       "      <td>4.2435</td>\n",
       "      <td>...</td>\n",
       "      <td>2.3952</td>\n",
       "      <td>4.1566</td>\n",
       "      <td>3.6883</td>\n",
       "      <td>4.1068</td>\n",
       "      <td>3.1692</td>\n",
       "      <td>5.0000</td>\n",
       "      <td>3.1029</td>\n",
       "      <td>2.3889</td>\n",
       "      <td>3.2690</td>\n",
       "      <td>3.1692</td>\n",
       "    </tr>\n",
       "    <tr>\n",
       "      <th>person_100</th>\n",
       "      <td>4.2751</td>\n",
       "      <td>3.7771</td>\n",
       "      <td>3.1128</td>\n",
       "      <td>4.6126</td>\n",
       "      <td>3.7897</td>\n",
       "      <td>3.1162</td>\n",
       "      <td>3.6126</td>\n",
       "      <td>4.0494</td>\n",
       "      <td>2.9882</td>\n",
       "      <td>4.6732</td>\n",
       "      <td>...</td>\n",
       "      <td>3.3459</td>\n",
       "      <td>3.2107</td>\n",
       "      <td>2.7754</td>\n",
       "      <td>4.6255</td>\n",
       "      <td>3.4677</td>\n",
       "      <td>5.0000</td>\n",
       "      <td>3.6379</td>\n",
       "      <td>3.2844</td>\n",
       "      <td>4.1899</td>\n",
       "      <td>3.4677</td>\n",
       "    </tr>\n",
       "    <tr>\n",
       "      <th>person_101</th>\n",
       "      <td>3.9197</td>\n",
       "      <td>3.5873</td>\n",
       "      <td>2.8862</td>\n",
       "      <td>4.0240</td>\n",
       "      <td>3.1343</td>\n",
       "      <td>2.9484</td>\n",
       "      <td>3.0240</td>\n",
       "      <td>3.7927</td>\n",
       "      <td>2.4842</td>\n",
       "      <td>4.0018</td>\n",
       "      <td>...</td>\n",
       "      <td>2.9922</td>\n",
       "      <td>3.0574</td>\n",
       "      <td>2.9397</td>\n",
       "      <td>3.9080</td>\n",
       "      <td>3.0018</td>\n",
       "      <td>5.0000</td>\n",
       "      <td>3.2629</td>\n",
       "      <td>2.7717</td>\n",
       "      <td>3.4849</td>\n",
       "      <td>3.0018</td>\n",
       "    </tr>\n",
       "    <tr>\n",
       "      <th>person_102</th>\n",
       "      <td>3.9090</td>\n",
       "      <td>3.3154</td>\n",
       "      <td>2.8391</td>\n",
       "      <td>3.7460</td>\n",
       "      <td>3.2009</td>\n",
       "      <td>2.3268</td>\n",
       "      <td>2.7460</td>\n",
       "      <td>3.1071</td>\n",
       "      <td>2.4033</td>\n",
       "      <td>4.1071</td>\n",
       "      <td>...</td>\n",
       "      <td>2.5571</td>\n",
       "      <td>2.8571</td>\n",
       "      <td>2.5524</td>\n",
       "      <td>3.9716</td>\n",
       "      <td>3.1264</td>\n",
       "      <td>5.0000</td>\n",
       "      <td>3.0771</td>\n",
       "      <td>2.4454</td>\n",
       "      <td>3.5500</td>\n",
       "      <td>3.1264</td>\n",
       "    </tr>\n",
       "    <tr>\n",
       "      <th>...</th>\n",
       "      <td>...</td>\n",
       "      <td>...</td>\n",
       "      <td>...</td>\n",
       "      <td>...</td>\n",
       "      <td>...</td>\n",
       "      <td>...</td>\n",
       "      <td>...</td>\n",
       "      <td>...</td>\n",
       "      <td>...</td>\n",
       "      <td>...</td>\n",
       "      <td>...</td>\n",
       "      <td>...</td>\n",
       "      <td>...</td>\n",
       "      <td>...</td>\n",
       "      <td>...</td>\n",
       "      <td>...</td>\n",
       "      <td>...</td>\n",
       "      <td>...</td>\n",
       "      <td>...</td>\n",
       "      <td>...</td>\n",
       "      <td>...</td>\n",
       "    </tr>\n",
       "    <tr>\n",
       "      <th>person_95</th>\n",
       "      <td>4.3654</td>\n",
       "      <td>4.0207</td>\n",
       "      <td>3.2481</td>\n",
       "      <td>4.7292</td>\n",
       "      <td>3.6030</td>\n",
       "      <td>3.3097</td>\n",
       "      <td>3.7292</td>\n",
       "      <td>3.9739</td>\n",
       "      <td>2.7553</td>\n",
       "      <td>5.0000</td>\n",
       "      <td>...</td>\n",
       "      <td>3.3089</td>\n",
       "      <td>4.1339</td>\n",
       "      <td>2.9411</td>\n",
       "      <td>4.4963</td>\n",
       "      <td>3.7142</td>\n",
       "      <td>5.0000</td>\n",
       "      <td>3.7438</td>\n",
       "      <td>3.0982</td>\n",
       "      <td>3.8718</td>\n",
       "      <td>3.7142</td>\n",
       "    </tr>\n",
       "    <tr>\n",
       "      <th>person_96</th>\n",
       "      <td>5.0000</td>\n",
       "      <td>3.5517</td>\n",
       "      <td>2.8445</td>\n",
       "      <td>4.5513</td>\n",
       "      <td>3.5151</td>\n",
       "      <td>2.9065</td>\n",
       "      <td>3.5513</td>\n",
       "      <td>3.5096</td>\n",
       "      <td>2.6335</td>\n",
       "      <td>5.0000</td>\n",
       "      <td>...</td>\n",
       "      <td>3.0939</td>\n",
       "      <td>3.8156</td>\n",
       "      <td>2.3312</td>\n",
       "      <td>4.0985</td>\n",
       "      <td>3.1488</td>\n",
       "      <td>5.0000</td>\n",
       "      <td>3.4180</td>\n",
       "      <td>2.7664</td>\n",
       "      <td>3.5540</td>\n",
       "      <td>3.1488</td>\n",
       "    </tr>\n",
       "    <tr>\n",
       "      <th>person_97</th>\n",
       "      <td>4.6108</td>\n",
       "      <td>4.3289</td>\n",
       "      <td>3.7668</td>\n",
       "      <td>4.8373</td>\n",
       "      <td>4.1528</td>\n",
       "      <td>3.8254</td>\n",
       "      <td>3.8373</td>\n",
       "      <td>4.6759</td>\n",
       "      <td>3.2735</td>\n",
       "      <td>5.0000</td>\n",
       "      <td>...</td>\n",
       "      <td>3.4444</td>\n",
       "      <td>4.1111</td>\n",
       "      <td>3.5126</td>\n",
       "      <td>4.8876</td>\n",
       "      <td>3.9875</td>\n",
       "      <td>4.6944</td>\n",
       "      <td>4.2156</td>\n",
       "      <td>3.3909</td>\n",
       "      <td>4.2449</td>\n",
       "      <td>3.9875</td>\n",
       "    </tr>\n",
       "    <tr>\n",
       "      <th>person_98</th>\n",
       "      <td>4.5000</td>\n",
       "      <td>3.8381</td>\n",
       "      <td>2.8867</td>\n",
       "      <td>4.3184</td>\n",
       "      <td>2.9130</td>\n",
       "      <td>3.4561</td>\n",
       "      <td>3.3184</td>\n",
       "      <td>3.9539</td>\n",
       "      <td>2.8841</td>\n",
       "      <td>5.0000</td>\n",
       "      <td>...</td>\n",
       "      <td>3.0510</td>\n",
       "      <td>5.0000</td>\n",
       "      <td>3.6422</td>\n",
       "      <td>4.5629</td>\n",
       "      <td>3.4242</td>\n",
       "      <td>5.0000</td>\n",
       "      <td>3.4326</td>\n",
       "      <td>2.8773</td>\n",
       "      <td>3.8154</td>\n",
       "      <td>3.4242</td>\n",
       "    </tr>\n",
       "    <tr>\n",
       "      <th>person_99</th>\n",
       "      <td>4.7059</td>\n",
       "      <td>4.0000</td>\n",
       "      <td>3.6469</td>\n",
       "      <td>4.3679</td>\n",
       "      <td>3.8263</td>\n",
       "      <td>3.1115</td>\n",
       "      <td>3.3679</td>\n",
       "      <td>3.8679</td>\n",
       "      <td>2.9426</td>\n",
       "      <td>3.8679</td>\n",
       "      <td>...</td>\n",
       "      <td>3.2846</td>\n",
       "      <td>2.5346</td>\n",
       "      <td>3.1580</td>\n",
       "      <td>4.6638</td>\n",
       "      <td>3.6861</td>\n",
       "      <td>5.0000</td>\n",
       "      <td>3.7320</td>\n",
       "      <td>3.0636</td>\n",
       "      <td>4.3798</td>\n",
       "      <td>3.6861</td>\n",
       "    </tr>\n",
       "  </tbody>\n",
       "</table>\n",
       "<p>610 rows × 9724 columns</p>\n",
       "</div>"
      ],
      "text/plain": [
       "userId/movieId  movie_1  movie_10  movie_100  movie_100044  movie_100068  \\\n",
       "person_1         4.0000    4.2665     3.5419        4.7950        4.0298   \n",
       "person_10        3.7932    3.4834     2.3127        3.8600        2.5331   \n",
       "person_100       4.2751    3.7771     3.1128        4.6126        3.7897   \n",
       "person_101       3.9197    3.5873     2.8862        4.0240        3.1343   \n",
       "person_102       3.9090    3.3154     2.8391        3.7460        3.2009   \n",
       "...                 ...       ...        ...           ...           ...   \n",
       "person_95        4.3654    4.0207     3.2481        4.7292        3.6030   \n",
       "person_96        5.0000    3.5517     2.8445        4.5513        3.5151   \n",
       "person_97        4.6108    4.3289     3.7668        4.8373        4.1528   \n",
       "person_98        4.5000    3.8381     2.8867        4.3184        2.9130   \n",
       "person_99        4.7059    4.0000     3.6469        4.3679        3.8263   \n",
       "\n",
       "userId/movieId  movie_100083  movie_100106  movie_100159  movie_100163  \\\n",
       "person_1              3.5708        3.7950        4.2070        3.1950   \n",
       "person_10             2.6999        2.8600        3.4484        2.3497   \n",
       "person_100            3.1162        3.6126        4.0494        2.9882   \n",
       "person_101            2.9484        3.0240        3.7927        2.4842   \n",
       "person_102            2.3268        2.7460        3.1071        2.4033   \n",
       "...                      ...           ...           ...           ...   \n",
       "person_95             3.3097        3.7292        3.9739        2.7553   \n",
       "person_96             2.9065        3.5513        3.5096        2.6335   \n",
       "person_97             3.8254        3.8373        4.6759        3.2735   \n",
       "person_98             3.4561        3.3184        3.9539        2.8841   \n",
       "person_99             3.1115        3.3679        3.8679        2.9426   \n",
       "\n",
       "userId/movieId  movie_100194  ...  movie_99750  movie_99764  movie_998  \\\n",
       "person_1              5.0000  ...       3.5027       4.0773     3.1887   \n",
       "person_10             4.2435  ...       2.3952       4.1566     3.6883   \n",
       "person_100            4.6732  ...       3.3459       3.2107     2.7754   \n",
       "person_101            4.0018  ...       2.9922       3.0574     2.9397   \n",
       "person_102            4.1071  ...       2.5571       2.8571     2.5524   \n",
       "...                      ...  ...          ...          ...        ...   \n",
       "person_95             5.0000  ...       3.3089       4.1339     2.9411   \n",
       "person_96             5.0000  ...       3.0939       3.8156     2.3312   \n",
       "person_97             5.0000  ...       3.4444       4.1111     3.5126   \n",
       "person_98             5.0000  ...       3.0510       5.0000     3.6422   \n",
       "person_99             3.8679  ...       3.2846       2.5346     3.1580   \n",
       "\n",
       "userId/movieId  movie_99813  movie_99846  movie_99853  movie_999  movie_99910  \\\n",
       "person_1             4.7391       3.7333       5.0000     4.0398       3.3216   \n",
       "person_10            4.1068       3.1692       5.0000     3.1029       2.3889   \n",
       "person_100           4.6255       3.4677       5.0000     3.6379       3.2844   \n",
       "person_101           3.9080       3.0018       5.0000     3.2629       2.7717   \n",
       "person_102           3.9716       3.1264       5.0000     3.0771       2.4454   \n",
       "...                     ...          ...          ...        ...          ...   \n",
       "person_95            4.4963       3.7142       5.0000     3.7438       3.0982   \n",
       "person_96            4.0985       3.1488       5.0000     3.4180       2.7664   \n",
       "person_97            4.8876       3.9875       4.6944     4.2156       3.3909   \n",
       "person_98            4.5629       3.4242       5.0000     3.4326       2.8773   \n",
       "person_99            4.6638       3.6861       5.0000     3.7320       3.0636   \n",
       "\n",
       "userId/movieId  movie_99917  movie_99992  \n",
       "person_1             4.2505       3.7333  \n",
       "person_10            3.2690       3.1692  \n",
       "person_100           4.1899       3.4677  \n",
       "person_101           3.4849       3.0018  \n",
       "person_102           3.5500       3.1264  \n",
       "...                     ...          ...  \n",
       "person_95            3.8718       3.7142  \n",
       "person_96            3.5540       3.1488  \n",
       "person_97            4.2449       3.9875  \n",
       "person_98            3.8154       3.4242  \n",
       "person_99            4.3798       3.6861  \n",
       "\n",
       "[610 rows x 9724 columns]"
      ]
     },
     "execution_count": 13,
     "metadata": {},
     "output_type": "execute_result"
    }
   ],
   "source": [
    "df_slope_one_new=df_new.copy()\n",
    "for user in df_new.index:\n",
    "    for movie in df_new.columns:\n",
    "        if str(df_slope_one_new.loc[user, movie])=='nan':\n",
    "            df_slope_one_new.at[user, movie] = round(slope.predict(user, movie).est,4)\n",
    "df_slope_one_new"
   ]
  },
  {
   "cell_type": "markdown",
   "metadata": {},
   "source": [
    "manual"
   ]
  },
  {
   "cell_type": "code",
   "execution_count": 14,
   "metadata": {},
   "outputs": [],
   "source": [
    "df=df.rename(columns={\"movieId\": \"userId/movieId\"})"
   ]
  },
  {
   "cell_type": "code",
   "execution_count": 15,
   "metadata": {},
   "outputs": [
    {
     "data": {
      "text/html": [
       "<div>\n",
       "<style scoped>\n",
       "    .dataframe tbody tr th:only-of-type {\n",
       "        vertical-align: middle;\n",
       "    }\n",
       "\n",
       "    .dataframe tbody tr th {\n",
       "        vertical-align: top;\n",
       "    }\n",
       "\n",
       "    .dataframe thead th {\n",
       "        text-align: right;\n",
       "    }\n",
       "</style>\n",
       "<table border=\"1\" class=\"dataframe\">\n",
       "  <thead>\n",
       "    <tr style=\"text-align: right;\">\n",
       "      <th>userId/movieId</th>\n",
       "      <th>movie_1</th>\n",
       "      <th>movie_10</th>\n",
       "      <th>movie_100</th>\n",
       "      <th>movie_100044</th>\n",
       "      <th>movie_100068</th>\n",
       "      <th>movie_100083</th>\n",
       "      <th>movie_100106</th>\n",
       "      <th>movie_100159</th>\n",
       "      <th>movie_100163</th>\n",
       "      <th>movie_100194</th>\n",
       "      <th>...</th>\n",
       "      <th>movie_99750</th>\n",
       "      <th>movie_99764</th>\n",
       "      <th>movie_998</th>\n",
       "      <th>movie_99813</th>\n",
       "      <th>movie_99846</th>\n",
       "      <th>movie_99853</th>\n",
       "      <th>movie_999</th>\n",
       "      <th>movie_99910</th>\n",
       "      <th>movie_99917</th>\n",
       "      <th>movie_99992</th>\n",
       "    </tr>\n",
       "  </thead>\n",
       "  <tbody>\n",
       "    <tr>\n",
       "      <th>person_1</th>\n",
       "      <td>4.0</td>\n",
       "      <td>NaN</td>\n",
       "      <td>NaN</td>\n",
       "      <td>NaN</td>\n",
       "      <td>NaN</td>\n",
       "      <td>NaN</td>\n",
       "      <td>NaN</td>\n",
       "      <td>NaN</td>\n",
       "      <td>NaN</td>\n",
       "      <td>NaN</td>\n",
       "      <td>...</td>\n",
       "      <td>NaN</td>\n",
       "      <td>NaN</td>\n",
       "      <td>NaN</td>\n",
       "      <td>NaN</td>\n",
       "      <td>NaN</td>\n",
       "      <td>NaN</td>\n",
       "      <td>NaN</td>\n",
       "      <td>NaN</td>\n",
       "      <td>NaN</td>\n",
       "      <td>NaN</td>\n",
       "    </tr>\n",
       "    <tr>\n",
       "      <th>person_10</th>\n",
       "      <td>NaN</td>\n",
       "      <td>NaN</td>\n",
       "      <td>NaN</td>\n",
       "      <td>NaN</td>\n",
       "      <td>NaN</td>\n",
       "      <td>NaN</td>\n",
       "      <td>NaN</td>\n",
       "      <td>NaN</td>\n",
       "      <td>NaN</td>\n",
       "      <td>NaN</td>\n",
       "      <td>...</td>\n",
       "      <td>NaN</td>\n",
       "      <td>NaN</td>\n",
       "      <td>NaN</td>\n",
       "      <td>NaN</td>\n",
       "      <td>NaN</td>\n",
       "      <td>NaN</td>\n",
       "      <td>NaN</td>\n",
       "      <td>NaN</td>\n",
       "      <td>NaN</td>\n",
       "      <td>NaN</td>\n",
       "    </tr>\n",
       "    <tr>\n",
       "      <th>person_100</th>\n",
       "      <td>NaN</td>\n",
       "      <td>NaN</td>\n",
       "      <td>NaN</td>\n",
       "      <td>NaN</td>\n",
       "      <td>NaN</td>\n",
       "      <td>NaN</td>\n",
       "      <td>NaN</td>\n",
       "      <td>NaN</td>\n",
       "      <td>NaN</td>\n",
       "      <td>NaN</td>\n",
       "      <td>...</td>\n",
       "      <td>NaN</td>\n",
       "      <td>NaN</td>\n",
       "      <td>NaN</td>\n",
       "      <td>NaN</td>\n",
       "      <td>NaN</td>\n",
       "      <td>NaN</td>\n",
       "      <td>NaN</td>\n",
       "      <td>NaN</td>\n",
       "      <td>NaN</td>\n",
       "      <td>NaN</td>\n",
       "    </tr>\n",
       "    <tr>\n",
       "      <th>person_101</th>\n",
       "      <td>NaN</td>\n",
       "      <td>NaN</td>\n",
       "      <td>NaN</td>\n",
       "      <td>NaN</td>\n",
       "      <td>NaN</td>\n",
       "      <td>NaN</td>\n",
       "      <td>NaN</td>\n",
       "      <td>NaN</td>\n",
       "      <td>NaN</td>\n",
       "      <td>NaN</td>\n",
       "      <td>...</td>\n",
       "      <td>NaN</td>\n",
       "      <td>NaN</td>\n",
       "      <td>NaN</td>\n",
       "      <td>NaN</td>\n",
       "      <td>NaN</td>\n",
       "      <td>NaN</td>\n",
       "      <td>NaN</td>\n",
       "      <td>NaN</td>\n",
       "      <td>NaN</td>\n",
       "      <td>NaN</td>\n",
       "    </tr>\n",
       "    <tr>\n",
       "      <th>person_102</th>\n",
       "      <td>NaN</td>\n",
       "      <td>NaN</td>\n",
       "      <td>NaN</td>\n",
       "      <td>NaN</td>\n",
       "      <td>NaN</td>\n",
       "      <td>NaN</td>\n",
       "      <td>NaN</td>\n",
       "      <td>NaN</td>\n",
       "      <td>NaN</td>\n",
       "      <td>NaN</td>\n",
       "      <td>...</td>\n",
       "      <td>NaN</td>\n",
       "      <td>NaN</td>\n",
       "      <td>NaN</td>\n",
       "      <td>NaN</td>\n",
       "      <td>NaN</td>\n",
       "      <td>NaN</td>\n",
       "      <td>NaN</td>\n",
       "      <td>NaN</td>\n",
       "      <td>NaN</td>\n",
       "      <td>NaN</td>\n",
       "    </tr>\n",
       "    <tr>\n",
       "      <th>...</th>\n",
       "      <td>...</td>\n",
       "      <td>...</td>\n",
       "      <td>...</td>\n",
       "      <td>...</td>\n",
       "      <td>...</td>\n",
       "      <td>...</td>\n",
       "      <td>...</td>\n",
       "      <td>...</td>\n",
       "      <td>...</td>\n",
       "      <td>...</td>\n",
       "      <td>...</td>\n",
       "      <td>...</td>\n",
       "      <td>...</td>\n",
       "      <td>...</td>\n",
       "      <td>...</td>\n",
       "      <td>...</td>\n",
       "      <td>...</td>\n",
       "      <td>...</td>\n",
       "      <td>...</td>\n",
       "      <td>...</td>\n",
       "      <td>...</td>\n",
       "    </tr>\n",
       "    <tr>\n",
       "      <th>person_95</th>\n",
       "      <td>NaN</td>\n",
       "      <td>NaN</td>\n",
       "      <td>NaN</td>\n",
       "      <td>NaN</td>\n",
       "      <td>NaN</td>\n",
       "      <td>NaN</td>\n",
       "      <td>NaN</td>\n",
       "      <td>NaN</td>\n",
       "      <td>NaN</td>\n",
       "      <td>NaN</td>\n",
       "      <td>...</td>\n",
       "      <td>NaN</td>\n",
       "      <td>NaN</td>\n",
       "      <td>NaN</td>\n",
       "      <td>NaN</td>\n",
       "      <td>NaN</td>\n",
       "      <td>NaN</td>\n",
       "      <td>NaN</td>\n",
       "      <td>NaN</td>\n",
       "      <td>NaN</td>\n",
       "      <td>NaN</td>\n",
       "    </tr>\n",
       "    <tr>\n",
       "      <th>person_96</th>\n",
       "      <td>5.0</td>\n",
       "      <td>NaN</td>\n",
       "      <td>NaN</td>\n",
       "      <td>NaN</td>\n",
       "      <td>NaN</td>\n",
       "      <td>NaN</td>\n",
       "      <td>NaN</td>\n",
       "      <td>NaN</td>\n",
       "      <td>NaN</td>\n",
       "      <td>NaN</td>\n",
       "      <td>...</td>\n",
       "      <td>NaN</td>\n",
       "      <td>NaN</td>\n",
       "      <td>NaN</td>\n",
       "      <td>NaN</td>\n",
       "      <td>NaN</td>\n",
       "      <td>NaN</td>\n",
       "      <td>NaN</td>\n",
       "      <td>NaN</td>\n",
       "      <td>NaN</td>\n",
       "      <td>NaN</td>\n",
       "    </tr>\n",
       "    <tr>\n",
       "      <th>person_97</th>\n",
       "      <td>NaN</td>\n",
       "      <td>NaN</td>\n",
       "      <td>NaN</td>\n",
       "      <td>NaN</td>\n",
       "      <td>NaN</td>\n",
       "      <td>NaN</td>\n",
       "      <td>NaN</td>\n",
       "      <td>NaN</td>\n",
       "      <td>NaN</td>\n",
       "      <td>NaN</td>\n",
       "      <td>...</td>\n",
       "      <td>NaN</td>\n",
       "      <td>NaN</td>\n",
       "      <td>NaN</td>\n",
       "      <td>NaN</td>\n",
       "      <td>NaN</td>\n",
       "      <td>NaN</td>\n",
       "      <td>NaN</td>\n",
       "      <td>NaN</td>\n",
       "      <td>NaN</td>\n",
       "      <td>NaN</td>\n",
       "    </tr>\n",
       "    <tr>\n",
       "      <th>person_98</th>\n",
       "      <td>4.5</td>\n",
       "      <td>NaN</td>\n",
       "      <td>NaN</td>\n",
       "      <td>NaN</td>\n",
       "      <td>NaN</td>\n",
       "      <td>NaN</td>\n",
       "      <td>NaN</td>\n",
       "      <td>NaN</td>\n",
       "      <td>NaN</td>\n",
       "      <td>NaN</td>\n",
       "      <td>...</td>\n",
       "      <td>NaN</td>\n",
       "      <td>NaN</td>\n",
       "      <td>NaN</td>\n",
       "      <td>NaN</td>\n",
       "      <td>NaN</td>\n",
       "      <td>NaN</td>\n",
       "      <td>NaN</td>\n",
       "      <td>NaN</td>\n",
       "      <td>NaN</td>\n",
       "      <td>NaN</td>\n",
       "    </tr>\n",
       "    <tr>\n",
       "      <th>person_99</th>\n",
       "      <td>NaN</td>\n",
       "      <td>4.0</td>\n",
       "      <td>NaN</td>\n",
       "      <td>NaN</td>\n",
       "      <td>NaN</td>\n",
       "      <td>NaN</td>\n",
       "      <td>NaN</td>\n",
       "      <td>NaN</td>\n",
       "      <td>NaN</td>\n",
       "      <td>NaN</td>\n",
       "      <td>...</td>\n",
       "      <td>NaN</td>\n",
       "      <td>NaN</td>\n",
       "      <td>NaN</td>\n",
       "      <td>NaN</td>\n",
       "      <td>NaN</td>\n",
       "      <td>NaN</td>\n",
       "      <td>NaN</td>\n",
       "      <td>NaN</td>\n",
       "      <td>NaN</td>\n",
       "      <td>NaN</td>\n",
       "    </tr>\n",
       "  </tbody>\n",
       "</table>\n",
       "<p>610 rows × 9724 columns</p>\n",
       "</div>"
      ],
      "text/plain": [
       "userId/movieId  movie_1  movie_10  movie_100  movie_100044  movie_100068  \\\n",
       "person_1            4.0       NaN        NaN           NaN           NaN   \n",
       "person_10           NaN       NaN        NaN           NaN           NaN   \n",
       "person_100          NaN       NaN        NaN           NaN           NaN   \n",
       "person_101          NaN       NaN        NaN           NaN           NaN   \n",
       "person_102          NaN       NaN        NaN           NaN           NaN   \n",
       "...                 ...       ...        ...           ...           ...   \n",
       "person_95           NaN       NaN        NaN           NaN           NaN   \n",
       "person_96           5.0       NaN        NaN           NaN           NaN   \n",
       "person_97           NaN       NaN        NaN           NaN           NaN   \n",
       "person_98           4.5       NaN        NaN           NaN           NaN   \n",
       "person_99           NaN       4.0        NaN           NaN           NaN   \n",
       "\n",
       "userId/movieId  movie_100083  movie_100106  movie_100159  movie_100163  \\\n",
       "person_1                 NaN           NaN           NaN           NaN   \n",
       "person_10                NaN           NaN           NaN           NaN   \n",
       "person_100               NaN           NaN           NaN           NaN   \n",
       "person_101               NaN           NaN           NaN           NaN   \n",
       "person_102               NaN           NaN           NaN           NaN   \n",
       "...                      ...           ...           ...           ...   \n",
       "person_95                NaN           NaN           NaN           NaN   \n",
       "person_96                NaN           NaN           NaN           NaN   \n",
       "person_97                NaN           NaN           NaN           NaN   \n",
       "person_98                NaN           NaN           NaN           NaN   \n",
       "person_99                NaN           NaN           NaN           NaN   \n",
       "\n",
       "userId/movieId  movie_100194  ...  movie_99750  movie_99764  movie_998  \\\n",
       "person_1                 NaN  ...          NaN          NaN        NaN   \n",
       "person_10                NaN  ...          NaN          NaN        NaN   \n",
       "person_100               NaN  ...          NaN          NaN        NaN   \n",
       "person_101               NaN  ...          NaN          NaN        NaN   \n",
       "person_102               NaN  ...          NaN          NaN        NaN   \n",
       "...                      ...  ...          ...          ...        ...   \n",
       "person_95                NaN  ...          NaN          NaN        NaN   \n",
       "person_96                NaN  ...          NaN          NaN        NaN   \n",
       "person_97                NaN  ...          NaN          NaN        NaN   \n",
       "person_98                NaN  ...          NaN          NaN        NaN   \n",
       "person_99                NaN  ...          NaN          NaN        NaN   \n",
       "\n",
       "userId/movieId  movie_99813  movie_99846  movie_99853  movie_999  movie_99910  \\\n",
       "person_1                NaN          NaN          NaN        NaN          NaN   \n",
       "person_10               NaN          NaN          NaN        NaN          NaN   \n",
       "person_100              NaN          NaN          NaN        NaN          NaN   \n",
       "person_101              NaN          NaN          NaN        NaN          NaN   \n",
       "person_102              NaN          NaN          NaN        NaN          NaN   \n",
       "...                     ...          ...          ...        ...          ...   \n",
       "person_95               NaN          NaN          NaN        NaN          NaN   \n",
       "person_96               NaN          NaN          NaN        NaN          NaN   \n",
       "person_97               NaN          NaN          NaN        NaN          NaN   \n",
       "person_98               NaN          NaN          NaN        NaN          NaN   \n",
       "person_99               NaN          NaN          NaN        NaN          NaN   \n",
       "\n",
       "userId/movieId  movie_99917  movie_99992  \n",
       "person_1                NaN          NaN  \n",
       "person_10               NaN          NaN  \n",
       "person_100              NaN          NaN  \n",
       "person_101              NaN          NaN  \n",
       "person_102              NaN          NaN  \n",
       "...                     ...          ...  \n",
       "person_95               NaN          NaN  \n",
       "person_96               NaN          NaN  \n",
       "person_97               NaN          NaN  \n",
       "person_98               NaN          NaN  \n",
       "person_99               NaN          NaN  \n",
       "\n",
       "[610 rows x 9724 columns]"
      ]
     },
     "execution_count": 15,
     "metadata": {},
     "output_type": "execute_result"
    }
   ],
   "source": [
    "df = df.pivot_table(index=['userId'], columns='userId/movieId', values='rating', aggfunc=np.sum).reset_index()\n",
    "df.index=df['userId'].values\n",
    "df=df.drop(['userId'], axis=1)\n",
    "df"
   ]
  },
  {
   "cell_type": "code",
   "execution_count": 16,
   "metadata": {},
   "outputs": [],
   "source": [
    "def slope_one(target_surname, df):\n",
    "    my_values = df.loc[target_surname,:].copy()\n",
    "\n",
    "    film_nas = my_values[my_values.astype(str)=='nan'].index\n",
    "    film_nonas = my_values[my_values.astype(str)!='nan'].index\n",
    "    my_values_nonas = pd.DataFrame(my_values[my_values.astype(str)!='nan']).reset_index()\n",
    "    my_values_nonas = my_values_nonas.rename(columns={\"userId/movieId\": \"movie_id\", target_surname: \"rating\"})\n",
    "\n",
    "    dfc = pd.DataFrame(df.columns).copy()\n",
    "    i_nas = dfc[dfc['userId/movieId'].isin(film_nas)].index\n",
    "    i_nonas = dfc[dfc['userId/movieId'].isin(film_nonas)].index\n",
    "\n",
    "    df = df.drop([target_surname], axis=0)\n",
    "    my_values = my_values.values.tolist()\n",
    "    l_board=0.5\n",
    "    u_board=5.0\n",
    "\n",
    "    pred_nas=[]\n",
    "\n",
    "    for ina in i_nas:\n",
    "        film_na = df.columns[ina]\n",
    "        indexes = df[df[film_na].astype(str)!='nan'].index\n",
    "\n",
    "        df_copy=df.loc[indexes,:].copy()\n",
    "        df_copy0=pd.DataFrame(df_copy[film_na].copy()).reset_index()\n",
    "        df_copy0=df_copy0.rename(columns={\"index\": \"person_id\", film_na: \"rating_na\"})\n",
    "        df_copy=df_copy[film_nonas].copy().reset_index()\n",
    "        df_copy=df_copy.rename(columns={\"index\": \"person_id\"})\n",
    "\n",
    "        lc = len(df_copy.columns)\n",
    "        df_copy = pd.melt(df_copy, id_vars=['person_id'], value_vars = df_copy.columns[1:lc],\n",
    "                        var_name='movie_id', value_name='rating_nona')\n",
    "        df_copy = df_copy[df_copy['rating_nona'].astype(str)!='nan'].copy()\n",
    "        df_copy.reset_index(drop=True, inplace=True)\n",
    "\n",
    "        df_copy=df_copy.merge(df_copy0, how='left', on=['person_id'])\n",
    "        df_copy['dev']=df_copy['rating_na']-df_copy['rating_nona']\n",
    "        df_copy=df_copy.drop(['rating_na','rating_nona'], axis=1)\n",
    "\n",
    "        df_copy=df_copy.groupby(['movie_id'])['dev'].mean().reset_index()\n",
    "\n",
    "        df_copy=df_copy.merge(my_values_nonas, how='left', on='movie_id')\n",
    "        df_copy['final_rating'] = df_copy['rating'] + df_copy['dev']\n",
    "        df_copy = df_copy.drop(['rating','dev'], axis=1)\n",
    "\n",
    "        pred = round(df_copy['final_rating'].mean(),4)\n",
    "\n",
    "        if str(pred)=='nan':\n",
    "            pred=0.5\n",
    "        elif pred<l_board:\n",
    "            pred=0.5\n",
    "        elif pred>u_board:\n",
    "            pred=5\n",
    "\n",
    "        pred_nas.append(pred)\n",
    "\n",
    "    my_values_pred=my_values.copy()\n",
    "    for i in range(len(pred_nas)):\n",
    "        my_values_pred[i_nas[i]]=pred_nas[i]\n",
    "\n",
    "    df_new = pd.DataFrame([my_values_pred])\n",
    "    df_new.columns = df.columns\n",
    "    df_new.index = [(target_surname+' (slope one)')]\n",
    "    df_new = pd.concat([df, df_new], axis=0)\n",
    "    \n",
    "    return(df_new)"
   ]
  },
  {
   "cell_type": "code",
   "execution_count": 17,
   "metadata": {},
   "outputs": [
    {
     "name": "stdout",
     "output_type": "stream",
     "text": [
      "Iteration  1  of  5  --> COMPLETE\n",
      "Iteration  2  of  5  --> COMPLETE\n",
      "Iteration  3  of  5  --> COMPLETE\n",
      "Iteration  4  of  5  --> COMPLETE\n",
      "Iteration  5  of  5  --> COMPLETE\n"
     ]
    }
   ],
   "source": [
    "df_slope_one=df.copy()\n",
    "for k, target_surname in enumerate(df.index[0:5]):\n",
    "    df_slope_one=slope_one(target_surname=target_surname, df=df_slope_one)\n",
    "    print('Iteration ',(k+1),' of ',len(df.index[0:5]),' --> COMPLETE')"
   ]
  },
  {
   "cell_type": "code",
   "execution_count": 18,
   "metadata": {},
   "outputs": [],
   "source": [
    "df_slope_one_small = df_slope_one.loc[\n",
    "                        df_slope_one.index[\n",
    "                            (df_slope_one.shape[0]-5):\n",
    "                            df_slope_one.shape[0]\n",
    "                        ],\n",
    "                    ].copy()"
   ]
  },
  {
   "cell_type": "code",
   "execution_count": 19,
   "metadata": {},
   "outputs": [
    {
     "data": {
      "text/html": [
       "<div>\n",
       "<style scoped>\n",
       "    .dataframe tbody tr th:only-of-type {\n",
       "        vertical-align: middle;\n",
       "    }\n",
       "\n",
       "    .dataframe tbody tr th {\n",
       "        vertical-align: top;\n",
       "    }\n",
       "\n",
       "    .dataframe thead th {\n",
       "        text-align: right;\n",
       "    }\n",
       "</style>\n",
       "<table border=\"1\" class=\"dataframe\">\n",
       "  <thead>\n",
       "    <tr style=\"text-align: right;\">\n",
       "      <th>userId/movieId</th>\n",
       "      <th>movie_1</th>\n",
       "      <th>movie_10</th>\n",
       "      <th>movie_100</th>\n",
       "      <th>movie_100044</th>\n",
       "      <th>movie_100068</th>\n",
       "      <th>movie_100083</th>\n",
       "      <th>movie_100106</th>\n",
       "      <th>movie_100159</th>\n",
       "      <th>movie_100163</th>\n",
       "      <th>movie_100194</th>\n",
       "      <th>...</th>\n",
       "      <th>movie_99750</th>\n",
       "      <th>movie_99764</th>\n",
       "      <th>movie_998</th>\n",
       "      <th>movie_99813</th>\n",
       "      <th>movie_99846</th>\n",
       "      <th>movie_99853</th>\n",
       "      <th>movie_999</th>\n",
       "      <th>movie_99910</th>\n",
       "      <th>movie_99917</th>\n",
       "      <th>movie_99992</th>\n",
       "    </tr>\n",
       "  </thead>\n",
       "  <tbody>\n",
       "    <tr>\n",
       "      <th>person_1 (slope one)</th>\n",
       "      <td>4.0000</td>\n",
       "      <td>4.3089</td>\n",
       "      <td>3.3861</td>\n",
       "      <td>4.6429</td>\n",
       "      <td>4.2644</td>\n",
       "      <td>3.7036</td>\n",
       "      <td>4.1429</td>\n",
       "      <td>4.6304</td>\n",
       "      <td>3.3701</td>\n",
       "      <td>5.0000</td>\n",
       "      <td>...</td>\n",
       "      <td>3.8125</td>\n",
       "      <td>4.4180</td>\n",
       "      <td>3.1623</td>\n",
       "      <td>4.6060</td>\n",
       "      <td>3.7050</td>\n",
       "      <td>5.0000</td>\n",
       "      <td>4.0032</td>\n",
       "      <td>3.4810</td>\n",
       "      <td>4.0299</td>\n",
       "      <td>3.7050</td>\n",
       "    </tr>\n",
       "    <tr>\n",
       "      <th>person_10 (slope one)</th>\n",
       "      <td>3.6111</td>\n",
       "      <td>3.4040</td>\n",
       "      <td>2.3730</td>\n",
       "      <td>3.6877</td>\n",
       "      <td>3.2415</td>\n",
       "      <td>2.7370</td>\n",
       "      <td>3.1877</td>\n",
       "      <td>3.7164</td>\n",
       "      <td>2.4891</td>\n",
       "      <td>4.1055</td>\n",
       "      <td>...</td>\n",
       "      <td>2.8453</td>\n",
       "      <td>3.6131</td>\n",
       "      <td>2.3079</td>\n",
       "      <td>3.8104</td>\n",
       "      <td>2.7976</td>\n",
       "      <td>4.0942</td>\n",
       "      <td>3.0303</td>\n",
       "      <td>2.5679</td>\n",
       "      <td>3.1365</td>\n",
       "      <td>2.7976</td>\n",
       "    </tr>\n",
       "    <tr>\n",
       "      <th>person_100 (slope one)</th>\n",
       "      <td>4.2216</td>\n",
       "      <td>3.8416</td>\n",
       "      <td>2.9830</td>\n",
       "      <td>4.2965</td>\n",
       "      <td>3.9074</td>\n",
       "      <td>3.3346</td>\n",
       "      <td>3.7965</td>\n",
       "      <td>4.3099</td>\n",
       "      <td>3.0537</td>\n",
       "      <td>4.6995</td>\n",
       "      <td>...</td>\n",
       "      <td>3.4672</td>\n",
       "      <td>4.1071</td>\n",
       "      <td>2.8331</td>\n",
       "      <td>4.3650</td>\n",
       "      <td>3.3777</td>\n",
       "      <td>4.7402</td>\n",
       "      <td>3.5858</td>\n",
       "      <td>3.1802</td>\n",
       "      <td>3.7527</td>\n",
       "      <td>3.3777</td>\n",
       "    </tr>\n",
       "    <tr>\n",
       "      <th>person_101 (slope one)</th>\n",
       "      <td>3.8772</td>\n",
       "      <td>3.6287</td>\n",
       "      <td>2.7012</td>\n",
       "      <td>4.0598</td>\n",
       "      <td>3.6306</td>\n",
       "      <td>3.1007</td>\n",
       "      <td>3.5598</td>\n",
       "      <td>4.0687</td>\n",
       "      <td>2.7629</td>\n",
       "      <td>4.4469</td>\n",
       "      <td>...</td>\n",
       "      <td>3.2325</td>\n",
       "      <td>3.8749</td>\n",
       "      <td>2.6458</td>\n",
       "      <td>4.0262</td>\n",
       "      <td>3.1221</td>\n",
       "      <td>4.4809</td>\n",
       "      <td>3.2967</td>\n",
       "      <td>2.9248</td>\n",
       "      <td>3.4391</td>\n",
       "      <td>3.1221</td>\n",
       "    </tr>\n",
       "    <tr>\n",
       "      <th>person_102 (slope one)</th>\n",
       "      <td>3.8798</td>\n",
       "      <td>3.3626</td>\n",
       "      <td>2.7254</td>\n",
       "      <td>3.9451</td>\n",
       "      <td>3.5542</td>\n",
       "      <td>3.0031</td>\n",
       "      <td>3.4451</td>\n",
       "      <td>3.9679</td>\n",
       "      <td>2.6697</td>\n",
       "      <td>4.3689</td>\n",
       "      <td>...</td>\n",
       "      <td>3.1307</td>\n",
       "      <td>3.7854</td>\n",
       "      <td>2.5475</td>\n",
       "      <td>3.9295</td>\n",
       "      <td>3.0548</td>\n",
       "      <td>4.3936</td>\n",
       "      <td>3.1443</td>\n",
       "      <td>2.7968</td>\n",
       "      <td>3.3690</td>\n",
       "      <td>3.0548</td>\n",
       "    </tr>\n",
       "  </tbody>\n",
       "</table>\n",
       "<p>5 rows × 9724 columns</p>\n",
       "</div>"
      ],
      "text/plain": [
       "userId/movieId          movie_1  movie_10  movie_100  movie_100044  \\\n",
       "person_1 (slope one)     4.0000    4.3089     3.3861        4.6429   \n",
       "person_10 (slope one)    3.6111    3.4040     2.3730        3.6877   \n",
       "person_100 (slope one)   4.2216    3.8416     2.9830        4.2965   \n",
       "person_101 (slope one)   3.8772    3.6287     2.7012        4.0598   \n",
       "person_102 (slope one)   3.8798    3.3626     2.7254        3.9451   \n",
       "\n",
       "userId/movieId          movie_100068  movie_100083  movie_100106  \\\n",
       "person_1 (slope one)          4.2644        3.7036        4.1429   \n",
       "person_10 (slope one)         3.2415        2.7370        3.1877   \n",
       "person_100 (slope one)        3.9074        3.3346        3.7965   \n",
       "person_101 (slope one)        3.6306        3.1007        3.5598   \n",
       "person_102 (slope one)        3.5542        3.0031        3.4451   \n",
       "\n",
       "userId/movieId          movie_100159  movie_100163  movie_100194  ...  \\\n",
       "person_1 (slope one)          4.6304        3.3701        5.0000  ...   \n",
       "person_10 (slope one)         3.7164        2.4891        4.1055  ...   \n",
       "person_100 (slope one)        4.3099        3.0537        4.6995  ...   \n",
       "person_101 (slope one)        4.0687        2.7629        4.4469  ...   \n",
       "person_102 (slope one)        3.9679        2.6697        4.3689  ...   \n",
       "\n",
       "userId/movieId          movie_99750  movie_99764  movie_998  movie_99813  \\\n",
       "person_1 (slope one)         3.8125       4.4180     3.1623       4.6060   \n",
       "person_10 (slope one)        2.8453       3.6131     2.3079       3.8104   \n",
       "person_100 (slope one)       3.4672       4.1071     2.8331       4.3650   \n",
       "person_101 (slope one)       3.2325       3.8749     2.6458       4.0262   \n",
       "person_102 (slope one)       3.1307       3.7854     2.5475       3.9295   \n",
       "\n",
       "userId/movieId          movie_99846  movie_99853  movie_999  movie_99910  \\\n",
       "person_1 (slope one)         3.7050       5.0000     4.0032       3.4810   \n",
       "person_10 (slope one)        2.7976       4.0942     3.0303       2.5679   \n",
       "person_100 (slope one)       3.3777       4.7402     3.5858       3.1802   \n",
       "person_101 (slope one)       3.1221       4.4809     3.2967       2.9248   \n",
       "person_102 (slope one)       3.0548       4.3936     3.1443       2.7968   \n",
       "\n",
       "userId/movieId          movie_99917  movie_99992  \n",
       "person_1 (slope one)         4.0299       3.7050  \n",
       "person_10 (slope one)        3.1365       2.7976  \n",
       "person_100 (slope one)       3.7527       3.3777  \n",
       "person_101 (slope one)       3.4391       3.1221  \n",
       "person_102 (slope one)       3.3690       3.0548  \n",
       "\n",
       "[5 rows x 9724 columns]"
      ]
     },
     "execution_count": 19,
     "metadata": {},
     "output_type": "execute_result"
    }
   ],
   "source": [
    "df_slope_one_small"
   ]
  },
  {
   "cell_type": "code",
   "execution_count": 20,
   "metadata": {},
   "outputs": [
    {
     "data": {
      "text/plain": [
       "5.0"
      ]
     },
     "execution_count": 20,
     "metadata": {},
     "output_type": "execute_result"
    }
   ],
   "source": [
    "df_slope_one_small.max().max()"
   ]
  },
  {
   "cell_type": "code",
   "execution_count": 21,
   "metadata": {},
   "outputs": [
    {
     "data": {
      "text/plain": [
       "0.5"
      ]
     },
     "execution_count": 21,
     "metadata": {},
     "output_type": "execute_result"
    }
   ],
   "source": [
    "df_slope_one_small.min().min()"
   ]
  },
  {
   "cell_type": "code",
   "execution_count": 22,
   "metadata": {},
   "outputs": [
    {
     "data": {
      "text/plain": [
       "array([0], dtype=int64)"
      ]
     },
     "execution_count": 22,
     "metadata": {},
     "output_type": "execute_result"
    }
   ],
   "source": [
    "df_slope_one_small.apply(lambda x: sum(x.isnull()), axis=0).unique()"
   ]
  },
  {
   "cell_type": "code",
   "execution_count": null,
   "metadata": {},
   "outputs": [],
   "source": []
  },
  {
   "cell_type": "code",
   "execution_count": null,
   "metadata": {},
   "outputs": [],
   "source": []
  },
  {
   "cell_type": "code",
   "execution_count": null,
   "metadata": {},
   "outputs": [],
   "source": []
  },
  {
   "cell_type": "code",
   "execution_count": null,
   "metadata": {},
   "outputs": [],
   "source": []
  },
  {
   "cell_type": "code",
   "execution_count": null,
   "metadata": {},
   "outputs": [],
   "source": []
  }
 ],
 "metadata": {
  "interpreter": {
   "hash": "b3ba2566441a7c06988d0923437866b63cedc61552a5af99d1f4fb67d367b25f"
  },
  "kernelspec": {
   "display_name": "Python 3.8.8 64-bit ('base': conda)",
   "language": "python",
   "name": "python3"
  },
  "language_info": {
   "codemirror_mode": {
    "name": "ipython",
    "version": 3
   },
   "file_extension": ".py",
   "mimetype": "text/x-python",
   "name": "python",
   "nbconvert_exporter": "python",
   "pygments_lexer": "ipython3",
   "version": "3.9.7"
  },
  "orig_nbformat": 4
 },
 "nbformat": 4,
 "nbformat_minor": 2
}
